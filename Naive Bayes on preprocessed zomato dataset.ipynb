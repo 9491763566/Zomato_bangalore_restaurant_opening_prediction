{
 "cells": [
  {
   "cell_type": "code",
   "execution_count": 1,
   "metadata": {},
   "outputs": [],
   "source": [
    "import sklearn.datasets as skd\n",
    "from sklearn.pipeline import Pipeline\n",
    "from sklearn.feature_extraction.text import TfidfVectorizer\n",
    "from sklearn.naive_bayes import MultinomialNB\n",
    "from sklearn.naive_bayes import BernoulliNB\n",
    "from sklearn.naive_bayes import GaussianNB\n",
    "from sklearn.tree import DecisionTreeClassifier\n",
    "from sklearn.ensemble import RandomForestRegressor\n",
    "from sklearn import metrics\n",
    "from sklearn.metrics import accuracy_score\n",
    "import numpy as np\n",
    "import pandas as pd\n",
    "from sklearn import datasets, linear_model\n",
    "from sklearn.model_selection import train_test_split\n",
    "from matplotlib import pyplot as plt\n",
    "from sklearn.feature_extraction.text import CountVectorizer\n",
    "from sklearn.feature_extraction.text import TfidfTransformer\n",
    "from scipy import sparse\n",
    "from scipy.sparse import hstack\n",
    "from sklearn import tree"
   ]
  },
  {
   "cell_type": "code",
   "execution_count": 2,
   "metadata": {},
   "outputs": [],
   "source": [
    "zomato=pd.read_csv('zomato_preprocessed.csv')"
   ]
  },
  {
   "cell_type": "code",
   "execution_count": 3,
   "metadata": {},
   "outputs": [
    {
     "data": {
      "text/html": [
       "<div>\n",
       "<style scoped>\n",
       "    .dataframe tbody tr th:only-of-type {\n",
       "        vertical-align: middle;\n",
       "    }\n",
       "\n",
       "    .dataframe tbody tr th {\n",
       "        vertical-align: top;\n",
       "    }\n",
       "\n",
       "    .dataframe thead th {\n",
       "        text-align: right;\n",
       "    }\n",
       "</style>\n",
       "<table border=\"1\" class=\"dataframe\">\n",
       "  <thead>\n",
       "    <tr style=\"text-align: right;\">\n",
       "      <th></th>\n",
       "      <th>rate</th>\n",
       "      <th>location</th>\n",
       "      <th>rest_type</th>\n",
       "      <th>dish_liked</th>\n",
       "      <th>cuisines</th>\n",
       "    </tr>\n",
       "  </thead>\n",
       "  <tbody>\n",
       "    <tr>\n",
       "      <th>0</th>\n",
       "      <td>4.1/5</td>\n",
       "      <td>Banashankari</td>\n",
       "      <td>Casual Dining</td>\n",
       "      <td>Pasta Lunch Buffet Masala Papad Paneer Lajawab...</td>\n",
       "      <td>North Indian Mughlai Chinese</td>\n",
       "    </tr>\n",
       "    <tr>\n",
       "      <th>1</th>\n",
       "      <td>4.1/5</td>\n",
       "      <td>Banashankari</td>\n",
       "      <td>Casual Dining</td>\n",
       "      <td>Momos Lunch Buffet Chocolate Nirvana Thai Gree...</td>\n",
       "      <td>Chinese North Indian Thai</td>\n",
       "    </tr>\n",
       "    <tr>\n",
       "      <th>2</th>\n",
       "      <td>3.8/5</td>\n",
       "      <td>Banashankari</td>\n",
       "      <td>Cafe Casual Dining</td>\n",
       "      <td>Churros Cannelloni Minestrone Soup Hot Chocola...</td>\n",
       "      <td>Cafe Mexican Italian</td>\n",
       "    </tr>\n",
       "    <tr>\n",
       "      <th>3</th>\n",
       "      <td>3.7/5</td>\n",
       "      <td>Banashankari</td>\n",
       "      <td>Quick Bites</td>\n",
       "      <td>Masala Dosa</td>\n",
       "      <td>South Indian North Indian</td>\n",
       "    </tr>\n",
       "    <tr>\n",
       "      <th>4</th>\n",
       "      <td>3.8/5</td>\n",
       "      <td>Basavanagudi</td>\n",
       "      <td>Casual Dining</td>\n",
       "      <td>Panipuri Gol Gappe</td>\n",
       "      <td>North Indian Rajasthani</td>\n",
       "    </tr>\n",
       "    <tr>\n",
       "      <th>5</th>\n",
       "      <td>3.8/5</td>\n",
       "      <td>Basavanagudi</td>\n",
       "      <td>Casual Dining</td>\n",
       "      <td>Onion Rings Pasta Kadhai Paneer Salads Salad R...</td>\n",
       "      <td>North Indian</td>\n",
       "    </tr>\n",
       "    <tr>\n",
       "      <th>6</th>\n",
       "      <td>4.6/5</td>\n",
       "      <td>Banashankari</td>\n",
       "      <td>Casual Dining Cafe</td>\n",
       "      <td>Farmhouse Pizza Chocolate Banana Virgin Mojito...</td>\n",
       "      <td>Pizza Cafe Italian</td>\n",
       "    </tr>\n",
       "    <tr>\n",
       "      <th>7</th>\n",
       "      <td>4.0/5</td>\n",
       "      <td>Banashankari</td>\n",
       "      <td>Cafe</td>\n",
       "      <td>Pizza Mocktails Coffee Nachos Salad Pasta Sand...</td>\n",
       "      <td>Cafe Italian Continental</td>\n",
       "    </tr>\n",
       "    <tr>\n",
       "      <th>8</th>\n",
       "      <td>4.2/5</td>\n",
       "      <td>Banashankari</td>\n",
       "      <td>Cafe</td>\n",
       "      <td>Waffles Pasta Coleslaw Sandwich Choco Waffle T...</td>\n",
       "      <td>Cafe Mexican Italian Momos Beverages</td>\n",
       "    </tr>\n",
       "    <tr>\n",
       "      <th>9</th>\n",
       "      <td>4.1/5</td>\n",
       "      <td>Banashankari</td>\n",
       "      <td>Cafe</td>\n",
       "      <td>Waffles Pasta Crispy Chicken Honey Chilli Chic...</td>\n",
       "      <td>Cafe</td>\n",
       "    </tr>\n",
       "    <tr>\n",
       "      <th>10</th>\n",
       "      <td>4.2/5</td>\n",
       "      <td>Banashankari</td>\n",
       "      <td>Cafe</td>\n",
       "      <td>Mocktails Peri Fries Lasagne Pizza Chicken Bbq...</td>\n",
       "      <td>Cafe Italian Continental</td>\n",
       "    </tr>\n",
       "    <tr>\n",
       "      <th>11</th>\n",
       "      <td>4.2/5</td>\n",
       "      <td>Banashankari</td>\n",
       "      <td>Cafe</td>\n",
       "      <td>Coffee Spaghetti Pancakes Nachos Pasta Sandwic...</td>\n",
       "      <td>Cafe Chinese Continental Italian</td>\n",
       "    </tr>\n",
       "    <tr>\n",
       "      <th>12</th>\n",
       "      <td>4.0/5</td>\n",
       "      <td>Banashankari</td>\n",
       "      <td>Cafe</td>\n",
       "      <td>Sandwich Omelette Ice Tea Virgin Mojito Hot Ch...</td>\n",
       "      <td>Cafe Continental</td>\n",
       "    </tr>\n",
       "    <tr>\n",
       "      <th>13</th>\n",
       "      <td>3.8/5</td>\n",
       "      <td>Banashankari</td>\n",
       "      <td>Cafe Casual Dining</td>\n",
       "      <td>Churros Cannelloni Minestrone Soup Hot Chocola...</td>\n",
       "      <td>Cafe Mexican Italian</td>\n",
       "    </tr>\n",
       "    <tr>\n",
       "      <th>14</th>\n",
       "      <td>3.8/5</td>\n",
       "      <td>Banashankari</td>\n",
       "      <td>Cafe</td>\n",
       "      <td>Garlic Bread Burgers Sandwiches Pizza Hot Choc...</td>\n",
       "      <td>Cafe</td>\n",
       "    </tr>\n",
       "    <tr>\n",
       "      <th>15</th>\n",
       "      <td>3.9/5</td>\n",
       "      <td>Banashankari</td>\n",
       "      <td>Cafe</td>\n",
       "      <td>Momos Mushroom Bruschettas Jalapeno Cheeseball...</td>\n",
       "      <td>Cafe Fast Food Continental Chinese Momos</td>\n",
       "    </tr>\n",
       "    <tr>\n",
       "      <th>16</th>\n",
       "      <td>3.8/5</td>\n",
       "      <td>Banashankari</td>\n",
       "      <td>Cafe</td>\n",
       "      <td>Pasta Gelato Garlic Bread Mojito Nachos Paneer...</td>\n",
       "      <td>Chinese Cafe Italian</td>\n",
       "    </tr>\n",
       "    <tr>\n",
       "      <th>17</th>\n",
       "      <td>3.9/5</td>\n",
       "      <td>Banashankari</td>\n",
       "      <td>Cafe</td>\n",
       "      <td>Cheese Maggi Peri Peri Fries Pasta Arrabiata</td>\n",
       "      <td>Cafe Italian American</td>\n",
       "    </tr>\n",
       "    <tr>\n",
       "      <th>18</th>\n",
       "      <td>3.0/5</td>\n",
       "      <td>Banashankari</td>\n",
       "      <td>Cafe</td>\n",
       "      <td>Burgers Caramel Milkshake Iced Coffee Iced Tea</td>\n",
       "      <td>Cafe French North Indian</td>\n",
       "    </tr>\n",
       "    <tr>\n",
       "      <th>19</th>\n",
       "      <td>3.7/5</td>\n",
       "      <td>Banashankari</td>\n",
       "      <td>Cafe</td>\n",
       "      <td>Pizza Garlic Bread</td>\n",
       "      <td>Cafe Pizza Fast Food Beverages</td>\n",
       "    </tr>\n",
       "    <tr>\n",
       "      <th>20</th>\n",
       "      <td>3.6/5</td>\n",
       "      <td>Banashankari</td>\n",
       "      <td>Quick Bites Cafe</td>\n",
       "      <td>Pasta Iced Tea</td>\n",
       "      <td>Italian Fast Food Cafe European</td>\n",
       "    </tr>\n",
       "    <tr>\n",
       "      <th>21</th>\n",
       "      <td>3.8/5</td>\n",
       "      <td>Basavanagudi</td>\n",
       "      <td>Casual Dining Cafe</td>\n",
       "      <td>Paratha Sandwich Chilli Idli Noodles Sandwiche...</td>\n",
       "      <td>North Indian Cafe Chinese Fast Food</td>\n",
       "    </tr>\n",
       "    <tr>\n",
       "      <th>22</th>\n",
       "      <td>4.0/5</td>\n",
       "      <td>Basavanagudi</td>\n",
       "      <td>Cafe</td>\n",
       "      <td>Pizza Fries Anjeer Ice Cream Sandwiches Gelato...</td>\n",
       "      <td>Cafe Italian</td>\n",
       "    </tr>\n",
       "    <tr>\n",
       "      <th>23</th>\n",
       "      <td>2.8/5</td>\n",
       "      <td>Banashankari</td>\n",
       "      <td>Quick Bites</td>\n",
       "      <td>Burgers Lassi Chicken Grill Naan Momos Chicken...</td>\n",
       "      <td>North Indian Fast Food Chinese Burger</td>\n",
       "    </tr>\n",
       "    <tr>\n",
       "      <th>24</th>\n",
       "      <td>3.9/5</td>\n",
       "      <td>Banashankari</td>\n",
       "      <td>Delivery</td>\n",
       "      <td>Paneer Tikka Garlic Bread Thin Crust Pizza Fal...</td>\n",
       "      <td>Pizza</td>\n",
       "    </tr>\n",
       "    <tr>\n",
       "      <th>25</th>\n",
       "      <td>4.2/5</td>\n",
       "      <td>Banashankari</td>\n",
       "      <td>Quick Bites</td>\n",
       "      <td>Rolls Veggie Wrap Chocolate Fantasy Rice Bowls...</td>\n",
       "      <td>North Indian Biryani Fast Food</td>\n",
       "    </tr>\n",
       "    <tr>\n",
       "      <th>26</th>\n",
       "      <td>3.9/5</td>\n",
       "      <td>Banashankari</td>\n",
       "      <td>Delivery</td>\n",
       "      <td>Raita Gulab Jamun Paneer Biryani Vegetable Bir...</td>\n",
       "      <td>Biryani</td>\n",
       "    </tr>\n",
       "    <tr>\n",
       "      <th>27</th>\n",
       "      <td>4.2/5</td>\n",
       "      <td>Banashankari</td>\n",
       "      <td>Casual Dining</td>\n",
       "      <td>Noodles Momos Veg Manchow Soup Kung Pao Chicke...</td>\n",
       "      <td>Chinese Thai Momos</td>\n",
       "    </tr>\n",
       "    <tr>\n",
       "      <th>28</th>\n",
       "      <td>4.4/5</td>\n",
       "      <td>Jayanagar</td>\n",
       "      <td>Casual Dining</td>\n",
       "      <td>Chicken Tikka Masala Mutton Keema Dosa Mutton ...</td>\n",
       "      <td>North Indian Mughlai South Indian Chinese</td>\n",
       "    </tr>\n",
       "    <tr>\n",
       "      <th>29</th>\n",
       "      <td>3.8/5</td>\n",
       "      <td>Basavanagudi</td>\n",
       "      <td>Quick Bites</td>\n",
       "      <td>Dabeli Faluda Masala Poori Sandwiches Tokri Ch...</td>\n",
       "      <td>Street Food Fast Food</td>\n",
       "    </tr>\n",
       "    <tr>\n",
       "      <th>...</th>\n",
       "      <td>...</td>\n",
       "      <td>...</td>\n",
       "      <td>...</td>\n",
       "      <td>...</td>\n",
       "      <td>...</td>\n",
       "    </tr>\n",
       "    <tr>\n",
       "      <th>23229</th>\n",
       "      <td>2.5/5</td>\n",
       "      <td>Whitefield</td>\n",
       "      <td>Casual Dining Bar</td>\n",
       "      <td>Biryani Andhra Meal</td>\n",
       "      <td>Andhra South Indian Chinese North Indian</td>\n",
       "    </tr>\n",
       "    <tr>\n",
       "      <th>23230</th>\n",
       "      <td>4.3/5</td>\n",
       "      <td>ITPL Main Road Whitefield</td>\n",
       "      <td>Bar</td>\n",
       "      <td>Cocktails Pizza Buttermilk</td>\n",
       "      <td>Finger Food</td>\n",
       "    </tr>\n",
       "    <tr>\n",
       "      <th>23231</th>\n",
       "      <td>4.5/5</td>\n",
       "      <td>Whitefield</td>\n",
       "      <td>Microbrewery Pub</td>\n",
       "      <td>Craft Beer Wine Chilli Chicken Wedges Lamb Coc...</td>\n",
       "      <td>Continental Mediterranean Italian North Indian...</td>\n",
       "    </tr>\n",
       "    <tr>\n",
       "      <th>23232</th>\n",
       "      <td>4.1/5</td>\n",
       "      <td>Whitefield</td>\n",
       "      <td>Bar Lounge</td>\n",
       "      <td>Margarita Lamb Cocktails Nachos Spring Roll Lo...</td>\n",
       "      <td>Finger Food</td>\n",
       "    </tr>\n",
       "    <tr>\n",
       "      <th>23233</th>\n",
       "      <td>4.3/5</td>\n",
       "      <td>Whitefield</td>\n",
       "      <td>Pub Microbrewery</td>\n",
       "      <td>Wheat Beer Beef Burger Pizza Craft Beer Pork C...</td>\n",
       "      <td>Continental BBQ Finger Food</td>\n",
       "    </tr>\n",
       "    <tr>\n",
       "      <th>23234</th>\n",
       "      <td>4.7/5</td>\n",
       "      <td>Whitefield</td>\n",
       "      <td>Microbrewery Pub</td>\n",
       "      <td>Wheat Beer Risotto Craft Beer Caesar Salad Piz...</td>\n",
       "      <td>Continental European BBQ Chinese Asian</td>\n",
       "    </tr>\n",
       "    <tr>\n",
       "      <th>23235</th>\n",
       "      <td>4.6/5</td>\n",
       "      <td>Whitefield</td>\n",
       "      <td>Microbrewery Pub</td>\n",
       "      <td>Keema Pav Cocktails Craft Beer Pork Chops Mock...</td>\n",
       "      <td>American North Indian Salad</td>\n",
       "    </tr>\n",
       "    <tr>\n",
       "      <th>23236</th>\n",
       "      <td>4.4/5</td>\n",
       "      <td>Whitefield</td>\n",
       "      <td>Microbrewery Pub</td>\n",
       "      <td>Beer Margarita Long Island Iced Tea Cocktails ...</td>\n",
       "      <td>Continental Mediterranean South Indian North I...</td>\n",
       "    </tr>\n",
       "    <tr>\n",
       "      <th>23237</th>\n",
       "      <td>4.0/5</td>\n",
       "      <td>Whitefield</td>\n",
       "      <td>Casual Dining Bar</td>\n",
       "      <td>Chicken Salad Mocktails Mutton Curry Chicken D...</td>\n",
       "      <td>Mughlai North Indian Biryani Afghan</td>\n",
       "    </tr>\n",
       "    <tr>\n",
       "      <th>23238</th>\n",
       "      <td>4.1/5</td>\n",
       "      <td>Whitefield</td>\n",
       "      <td>Casual Dining Bar</td>\n",
       "      <td>Mocktails Pizza Crispy Chicken Beer Nachos Mas...</td>\n",
       "      <td>North Indian Italian Finger Food Continental</td>\n",
       "    </tr>\n",
       "    <tr>\n",
       "      <th>23239</th>\n",
       "      <td>4.2/5</td>\n",
       "      <td>Whitefield</td>\n",
       "      <td>Pub</td>\n",
       "      <td>Tempura Prawns Cocktails Noodles Masala Peanut...</td>\n",
       "      <td>Asian Continental European</td>\n",
       "    </tr>\n",
       "    <tr>\n",
       "      <th>23240</th>\n",
       "      <td>4.2/5</td>\n",
       "      <td>Whitefield</td>\n",
       "      <td>Bar Casual Dining</td>\n",
       "      <td>Deep Dish Pizza Mocktails Burgers Onion Rings ...</td>\n",
       "      <td>American Italian</td>\n",
       "    </tr>\n",
       "    <tr>\n",
       "      <th>23241</th>\n",
       "      <td>3.9/5</td>\n",
       "      <td>Whitefield</td>\n",
       "      <td>Lounge Bar</td>\n",
       "      <td>Pasta Fish Beer Chicken Wings Mocktails Gulab ...</td>\n",
       "      <td>Continental Chinese</td>\n",
       "    </tr>\n",
       "    <tr>\n",
       "      <th>23242</th>\n",
       "      <td>4.1/5</td>\n",
       "      <td>Whitefield</td>\n",
       "      <td>Bar</td>\n",
       "      <td>Cocktails Pasta Fish</td>\n",
       "      <td>Continental North Indian Finger Food</td>\n",
       "    </tr>\n",
       "    <tr>\n",
       "      <th>23243</th>\n",
       "      <td>4.1/5</td>\n",
       "      <td>Whitefield</td>\n",
       "      <td>Pub</td>\n",
       "      <td>Cocktails Chicken Kebab Murgh Ghee Roast Virgi...</td>\n",
       "      <td>American North Indian Chinese Finger Food Momos</td>\n",
       "    </tr>\n",
       "    <tr>\n",
       "      <th>23244</th>\n",
       "      <td>4.2/5</td>\n",
       "      <td>Whitefield</td>\n",
       "      <td>Pub Microbrewery</td>\n",
       "      <td>Beer Chicken Tikka Cosmopolitan Burgers Cockta...</td>\n",
       "      <td>British Continental BBQ</td>\n",
       "    </tr>\n",
       "    <tr>\n",
       "      <th>23245</th>\n",
       "      <td>4.3/5</td>\n",
       "      <td>Whitefield</td>\n",
       "      <td>Casual Dining Pub</td>\n",
       "      <td>Beer Cocktails Burgers Chicken Nachos Mocktail...</td>\n",
       "      <td>European American</td>\n",
       "    </tr>\n",
       "    <tr>\n",
       "      <th>23246</th>\n",
       "      <td>4.4/5</td>\n",
       "      <td>Whitefield</td>\n",
       "      <td>Casual Dining Bar</td>\n",
       "      <td>California Roll Cocktails Mocktails Maki Roll ...</td>\n",
       "      <td>Asian Japanese Vietnamese Korean Chinese Thai</td>\n",
       "    </tr>\n",
       "    <tr>\n",
       "      <th>23247</th>\n",
       "      <td>3.9/5</td>\n",
       "      <td>Whitefield</td>\n",
       "      <td>Casual Dining Bar</td>\n",
       "      <td>Dal Halwa</td>\n",
       "      <td>North Indian South Indian Continental American...</td>\n",
       "    </tr>\n",
       "    <tr>\n",
       "      <th>23248</th>\n",
       "      <td>4.1/5</td>\n",
       "      <td>Whitefield</td>\n",
       "      <td>Pub</td>\n",
       "      <td>Cocktails Beer Long Island Iced Tea Pasta Chic...</td>\n",
       "      <td>Asian American Mexican</td>\n",
       "    </tr>\n",
       "    <tr>\n",
       "      <th>23249</th>\n",
       "      <td>4.1/5</td>\n",
       "      <td>Whitefield</td>\n",
       "      <td>Bar Casual Dining</td>\n",
       "      <td>Mocktails Cocktails Pizza Chicken Tikka Nachos...</td>\n",
       "      <td>Continental North Indian Italian</td>\n",
       "    </tr>\n",
       "    <tr>\n",
       "      <th>23250</th>\n",
       "      <td>4.1/5</td>\n",
       "      <td>Whitefield</td>\n",
       "      <td>Pub</td>\n",
       "      <td>Cocktails Wheat Beer Bruschettas Pasta Burgers...</td>\n",
       "      <td>Finger Food North Indian Chinese Italian</td>\n",
       "    </tr>\n",
       "    <tr>\n",
       "      <th>23251</th>\n",
       "      <td>4.0/5</td>\n",
       "      <td>Whitefield</td>\n",
       "      <td>Bar</td>\n",
       "      <td>Cocktails Beer Pizza Long Island Iced Tea Peri...</td>\n",
       "      <td>Finger Food American Asian Italian</td>\n",
       "    </tr>\n",
       "    <tr>\n",
       "      <th>23252</th>\n",
       "      <td>3.9/5</td>\n",
       "      <td>Whitefield</td>\n",
       "      <td>Pub Casual Dining</td>\n",
       "      <td>Pizza Beer Cocktails Nachos Pasta Moo Burger N...</td>\n",
       "      <td>Finger Food American Continental Burger Pizza</td>\n",
       "    </tr>\n",
       "    <tr>\n",
       "      <th>23253</th>\n",
       "      <td>4.0/5</td>\n",
       "      <td>Whitefield</td>\n",
       "      <td>Casual Dining Pub</td>\n",
       "      <td>Pizza Beer</td>\n",
       "      <td>North Indian Pizza Chinese</td>\n",
       "    </tr>\n",
       "    <tr>\n",
       "      <th>23254</th>\n",
       "      <td>3.8/5</td>\n",
       "      <td>Whitefield</td>\n",
       "      <td>Bar Casual Dining</td>\n",
       "      <td>Beer Chicken Guntur Paneer Tikka Fish Noodles ...</td>\n",
       "      <td>North Indian Continental Mediterranean</td>\n",
       "    </tr>\n",
       "    <tr>\n",
       "      <th>23255</th>\n",
       "      <td>3.9/5</td>\n",
       "      <td>Whitefield</td>\n",
       "      <td>Fine Dining Bar</td>\n",
       "      <td>Rooftop Ambience</td>\n",
       "      <td>Finger Food</td>\n",
       "    </tr>\n",
       "    <tr>\n",
       "      <th>23256</th>\n",
       "      <td>2.8/5</td>\n",
       "      <td>Whitefield</td>\n",
       "      <td>Casual Dining Bar</td>\n",
       "      <td>Salads Coffee Breakfast Buffet Halwa Chicken B...</td>\n",
       "      <td>Chinese Continental North Indian</td>\n",
       "    </tr>\n",
       "    <tr>\n",
       "      <th>23257</th>\n",
       "      <td>2.5/5</td>\n",
       "      <td>Whitefield</td>\n",
       "      <td>Casual Dining Bar</td>\n",
       "      <td>Biryani Andhra Meal</td>\n",
       "      <td>Andhra South Indian Chinese North Indian</td>\n",
       "    </tr>\n",
       "    <tr>\n",
       "      <th>23258</th>\n",
       "      <td>4.3/5</td>\n",
       "      <td>ITPL Main Road Whitefield</td>\n",
       "      <td>Bar</td>\n",
       "      <td>Cocktails Pizza Buttermilk</td>\n",
       "      <td>Finger Food</td>\n",
       "    </tr>\n",
       "  </tbody>\n",
       "</table>\n",
       "<p>23259 rows × 5 columns</p>\n",
       "</div>"
      ],
      "text/plain": [
       "        rate                   location           rest_type  \\\n",
       "0      4.1/5               Banashankari       Casual Dining   \n",
       "1      4.1/5               Banashankari       Casual Dining   \n",
       "2      3.8/5               Banashankari  Cafe Casual Dining   \n",
       "3      3.7/5               Banashankari         Quick Bites   \n",
       "4      3.8/5               Basavanagudi       Casual Dining   \n",
       "5      3.8/5               Basavanagudi       Casual Dining   \n",
       "6      4.6/5               Banashankari  Casual Dining Cafe   \n",
       "7      4.0/5               Banashankari                Cafe   \n",
       "8      4.2/5               Banashankari                Cafe   \n",
       "9      4.1/5               Banashankari                Cafe   \n",
       "10     4.2/5               Banashankari                Cafe   \n",
       "11     4.2/5               Banashankari                Cafe   \n",
       "12     4.0/5               Banashankari                Cafe   \n",
       "13     3.8/5               Banashankari  Cafe Casual Dining   \n",
       "14     3.8/5               Banashankari                Cafe   \n",
       "15     3.9/5               Banashankari                Cafe   \n",
       "16     3.8/5               Banashankari                Cafe   \n",
       "17     3.9/5               Banashankari                Cafe   \n",
       "18     3.0/5               Banashankari                Cafe   \n",
       "19     3.7/5               Banashankari                Cafe   \n",
       "20     3.6/5               Banashankari    Quick Bites Cafe   \n",
       "21     3.8/5               Basavanagudi  Casual Dining Cafe   \n",
       "22     4.0/5               Basavanagudi                Cafe   \n",
       "23     2.8/5               Banashankari         Quick Bites   \n",
       "24     3.9/5               Banashankari            Delivery   \n",
       "25     4.2/5               Banashankari         Quick Bites   \n",
       "26     3.9/5               Banashankari            Delivery   \n",
       "27     4.2/5               Banashankari       Casual Dining   \n",
       "28     4.4/5                  Jayanagar       Casual Dining   \n",
       "29     3.8/5               Basavanagudi         Quick Bites   \n",
       "...      ...                        ...                 ...   \n",
       "23229  2.5/5                 Whitefield   Casual Dining Bar   \n",
       "23230  4.3/5  ITPL Main Road Whitefield                 Bar   \n",
       "23231  4.5/5                 Whitefield    Microbrewery Pub   \n",
       "23232  4.1/5                 Whitefield          Bar Lounge   \n",
       "23233  4.3/5                 Whitefield    Pub Microbrewery   \n",
       "23234  4.7/5                 Whitefield    Microbrewery Pub   \n",
       "23235  4.6/5                 Whitefield    Microbrewery Pub   \n",
       "23236  4.4/5                 Whitefield    Microbrewery Pub   \n",
       "23237  4.0/5                 Whitefield   Casual Dining Bar   \n",
       "23238  4.1/5                 Whitefield   Casual Dining Bar   \n",
       "23239  4.2/5                 Whitefield                 Pub   \n",
       "23240  4.2/5                 Whitefield   Bar Casual Dining   \n",
       "23241  3.9/5                 Whitefield          Lounge Bar   \n",
       "23242  4.1/5                 Whitefield                 Bar   \n",
       "23243  4.1/5                 Whitefield                 Pub   \n",
       "23244  4.2/5                 Whitefield    Pub Microbrewery   \n",
       "23245  4.3/5                 Whitefield   Casual Dining Pub   \n",
       "23246  4.4/5                 Whitefield   Casual Dining Bar   \n",
       "23247  3.9/5                 Whitefield   Casual Dining Bar   \n",
       "23248  4.1/5                 Whitefield                 Pub   \n",
       "23249  4.1/5                 Whitefield   Bar Casual Dining   \n",
       "23250  4.1/5                 Whitefield                 Pub   \n",
       "23251  4.0/5                 Whitefield                 Bar   \n",
       "23252  3.9/5                 Whitefield   Pub Casual Dining   \n",
       "23253  4.0/5                 Whitefield   Casual Dining Pub   \n",
       "23254  3.8/5                 Whitefield   Bar Casual Dining   \n",
       "23255  3.9/5                 Whitefield     Fine Dining Bar   \n",
       "23256  2.8/5                 Whitefield   Casual Dining Bar   \n",
       "23257  2.5/5                 Whitefield   Casual Dining Bar   \n",
       "23258  4.3/5  ITPL Main Road Whitefield                 Bar   \n",
       "\n",
       "                                              dish_liked  \\\n",
       "0      Pasta Lunch Buffet Masala Papad Paneer Lajawab...   \n",
       "1      Momos Lunch Buffet Chocolate Nirvana Thai Gree...   \n",
       "2      Churros Cannelloni Minestrone Soup Hot Chocola...   \n",
       "3                                            Masala Dosa   \n",
       "4                                     Panipuri Gol Gappe   \n",
       "5      Onion Rings Pasta Kadhai Paneer Salads Salad R...   \n",
       "6      Farmhouse Pizza Chocolate Banana Virgin Mojito...   \n",
       "7      Pizza Mocktails Coffee Nachos Salad Pasta Sand...   \n",
       "8      Waffles Pasta Coleslaw Sandwich Choco Waffle T...   \n",
       "9      Waffles Pasta Crispy Chicken Honey Chilli Chic...   \n",
       "10     Mocktails Peri Fries Lasagne Pizza Chicken Bbq...   \n",
       "11     Coffee Spaghetti Pancakes Nachos Pasta Sandwic...   \n",
       "12     Sandwich Omelette Ice Tea Virgin Mojito Hot Ch...   \n",
       "13     Churros Cannelloni Minestrone Soup Hot Chocola...   \n",
       "14     Garlic Bread Burgers Sandwiches Pizza Hot Choc...   \n",
       "15     Momos Mushroom Bruschettas Jalapeno Cheeseball...   \n",
       "16     Pasta Gelato Garlic Bread Mojito Nachos Paneer...   \n",
       "17          Cheese Maggi Peri Peri Fries Pasta Arrabiata   \n",
       "18        Burgers Caramel Milkshake Iced Coffee Iced Tea   \n",
       "19                                    Pizza Garlic Bread   \n",
       "20                                        Pasta Iced Tea   \n",
       "21     Paratha Sandwich Chilli Idli Noodles Sandwiche...   \n",
       "22     Pizza Fries Anjeer Ice Cream Sandwiches Gelato...   \n",
       "23     Burgers Lassi Chicken Grill Naan Momos Chicken...   \n",
       "24     Paneer Tikka Garlic Bread Thin Crust Pizza Fal...   \n",
       "25     Rolls Veggie Wrap Chocolate Fantasy Rice Bowls...   \n",
       "26     Raita Gulab Jamun Paneer Biryani Vegetable Bir...   \n",
       "27     Noodles Momos Veg Manchow Soup Kung Pao Chicke...   \n",
       "28     Chicken Tikka Masala Mutton Keema Dosa Mutton ...   \n",
       "29     Dabeli Faluda Masala Poori Sandwiches Tokri Ch...   \n",
       "...                                                  ...   \n",
       "23229                                Biryani Andhra Meal   \n",
       "23230                         Cocktails Pizza Buttermilk   \n",
       "23231  Craft Beer Wine Chilli Chicken Wedges Lamb Coc...   \n",
       "23232  Margarita Lamb Cocktails Nachos Spring Roll Lo...   \n",
       "23233  Wheat Beer Beef Burger Pizza Craft Beer Pork C...   \n",
       "23234  Wheat Beer Risotto Craft Beer Caesar Salad Piz...   \n",
       "23235  Keema Pav Cocktails Craft Beer Pork Chops Mock...   \n",
       "23236  Beer Margarita Long Island Iced Tea Cocktails ...   \n",
       "23237  Chicken Salad Mocktails Mutton Curry Chicken D...   \n",
       "23238  Mocktails Pizza Crispy Chicken Beer Nachos Mas...   \n",
       "23239  Tempura Prawns Cocktails Noodles Masala Peanut...   \n",
       "23240  Deep Dish Pizza Mocktails Burgers Onion Rings ...   \n",
       "23241  Pasta Fish Beer Chicken Wings Mocktails Gulab ...   \n",
       "23242                               Cocktails Pasta Fish   \n",
       "23243  Cocktails Chicken Kebab Murgh Ghee Roast Virgi...   \n",
       "23244  Beer Chicken Tikka Cosmopolitan Burgers Cockta...   \n",
       "23245  Beer Cocktails Burgers Chicken Nachos Mocktail...   \n",
       "23246  California Roll Cocktails Mocktails Maki Roll ...   \n",
       "23247                                          Dal Halwa   \n",
       "23248  Cocktails Beer Long Island Iced Tea Pasta Chic...   \n",
       "23249  Mocktails Cocktails Pizza Chicken Tikka Nachos...   \n",
       "23250  Cocktails Wheat Beer Bruschettas Pasta Burgers...   \n",
       "23251  Cocktails Beer Pizza Long Island Iced Tea Peri...   \n",
       "23252  Pizza Beer Cocktails Nachos Pasta Moo Burger N...   \n",
       "23253                                         Pizza Beer   \n",
       "23254  Beer Chicken Guntur Paneer Tikka Fish Noodles ...   \n",
       "23255                                   Rooftop Ambience   \n",
       "23256  Salads Coffee Breakfast Buffet Halwa Chicken B...   \n",
       "23257                                Biryani Andhra Meal   \n",
       "23258                         Cocktails Pizza Buttermilk   \n",
       "\n",
       "                                                cuisines  \n",
       "0                           North Indian Mughlai Chinese  \n",
       "1                              Chinese North Indian Thai  \n",
       "2                                   Cafe Mexican Italian  \n",
       "3                              South Indian North Indian  \n",
       "4                                North Indian Rajasthani  \n",
       "5                                           North Indian  \n",
       "6                                     Pizza Cafe Italian  \n",
       "7                               Cafe Italian Continental  \n",
       "8                   Cafe Mexican Italian Momos Beverages  \n",
       "9                                                   Cafe  \n",
       "10                              Cafe Italian Continental  \n",
       "11                      Cafe Chinese Continental Italian  \n",
       "12                                      Cafe Continental  \n",
       "13                                  Cafe Mexican Italian  \n",
       "14                                                  Cafe  \n",
       "15              Cafe Fast Food Continental Chinese Momos  \n",
       "16                                  Chinese Cafe Italian  \n",
       "17                                 Cafe Italian American  \n",
       "18                              Cafe French North Indian  \n",
       "19                        Cafe Pizza Fast Food Beverages  \n",
       "20                       Italian Fast Food Cafe European  \n",
       "21                   North Indian Cafe Chinese Fast Food  \n",
       "22                                          Cafe Italian  \n",
       "23                 North Indian Fast Food Chinese Burger  \n",
       "24                                                 Pizza  \n",
       "25                        North Indian Biryani Fast Food  \n",
       "26                                               Biryani  \n",
       "27                                    Chinese Thai Momos  \n",
       "28             North Indian Mughlai South Indian Chinese  \n",
       "29                                 Street Food Fast Food  \n",
       "...                                                  ...  \n",
       "23229           Andhra South Indian Chinese North Indian  \n",
       "23230                                        Finger Food  \n",
       "23231  Continental Mediterranean Italian North Indian...  \n",
       "23232                                        Finger Food  \n",
       "23233                        Continental BBQ Finger Food  \n",
       "23234             Continental European BBQ Chinese Asian  \n",
       "23235                        American North Indian Salad  \n",
       "23236  Continental Mediterranean South Indian North I...  \n",
       "23237                Mughlai North Indian Biryani Afghan  \n",
       "23238       North Indian Italian Finger Food Continental  \n",
       "23239                         Asian Continental European  \n",
       "23240                                   American Italian  \n",
       "23241                                Continental Chinese  \n",
       "23242               Continental North Indian Finger Food  \n",
       "23243    American North Indian Chinese Finger Food Momos  \n",
       "23244                            British Continental BBQ  \n",
       "23245                                  European American  \n",
       "23246      Asian Japanese Vietnamese Korean Chinese Thai  \n",
       "23247  North Indian South Indian Continental American...  \n",
       "23248                             Asian American Mexican  \n",
       "23249                   Continental North Indian Italian  \n",
       "23250           Finger Food North Indian Chinese Italian  \n",
       "23251                 Finger Food American Asian Italian  \n",
       "23252      Finger Food American Continental Burger Pizza  \n",
       "23253                         North Indian Pizza Chinese  \n",
       "23254             North Indian Continental Mediterranean  \n",
       "23255                                        Finger Food  \n",
       "23256                   Chinese Continental North Indian  \n",
       "23257           Andhra South Indian Chinese North Indian  \n",
       "23258                                        Finger Food  \n",
       "\n",
       "[23259 rows x 5 columns]"
      ]
     },
     "execution_count": 3,
     "metadata": {},
     "output_type": "execute_result"
    }
   ],
   "source": [
    "zomato"
   ]
  },
  {
   "cell_type": "code",
   "execution_count": 4,
   "metadata": {},
   "outputs": [],
   "source": [
    "catagories = zomato['rate']"
   ]
  },
  {
   "cell_type": "code",
   "execution_count": 1,
   "metadata": {},
   "outputs": [
    {
     "ename": "NameError",
     "evalue": "name 'np' is not defined",
     "output_type": "error",
     "traceback": [
      "\u001b[1;31m---------------------------------------------------------------------------\u001b[0m",
      "\u001b[1;31mNameError\u001b[0m                                 Traceback (most recent call last)",
      "\u001b[1;32m<ipython-input-1-ad561be88136>\u001b[0m in \u001b[0;36m<module>\u001b[1;34m\u001b[0m\n\u001b[1;32m----> 1\u001b[1;33m \u001b[0mcatagories\u001b[0m \u001b[1;33m=\u001b[0m \u001b[0mnp\u001b[0m\u001b[1;33m.\u001b[0m\u001b[0munique\u001b[0m\u001b[1;33m(\u001b[0m\u001b[0mcatagories\u001b[0m\u001b[1;33m)\u001b[0m\u001b[1;33m\u001b[0m\u001b[1;33m\u001b[0m\u001b[0m\n\u001b[0m",
      "\u001b[1;31mNameError\u001b[0m: name 'np' is not defined"
     ]
    }
   ],
   "source": [
    "catagories = np.unique(catagories)"
   ]
  },
  {
   "cell_type": "code",
   "execution_count": 6,
   "metadata": {},
   "outputs": [
    {
     "data": {
      "text/plain": [
       "list"
      ]
     },
     "execution_count": 6,
     "metadata": {},
     "output_type": "execute_result"
    }
   ],
   "source": [
    "lables = catagories.tolist()\n",
    "type(lables)"
   ]
  },
  {
   "cell_type": "code",
   "execution_count": 7,
   "metadata": {},
   "outputs": [
    {
     "data": {
      "text/plain": [
       "dtype('O')"
      ]
     },
     "execution_count": 7,
     "metadata": {},
     "output_type": "execute_result"
    }
   ],
   "source": [
    "lables.pop(0)\n",
    "catagories.dtype"
   ]
  },
  {
   "cell_type": "code",
   "execution_count": 8,
   "metadata": {},
   "outputs": [],
   "source": [
<<<<<<< HEAD
    "y= zomato['rate']"
=======
    "x = zomato[\"location\"] + \" \" +zomato[\"cuisines\"]+ \" \" +zomato[\"rest_type\"]+ \" \" +zomato[\"dish_liked\"]\n",
    "y = zomato[\"rate\"].str.replace('/5', '')"
>>>>>>> b5ad61d... adding more algos
   ]
  },
  {
   "cell_type": "code",
   "execution_count": 9,
   "metadata": {},
   "outputs": [],
   "source": [
    "x= zomato[\"location\"]+ \" \"+ zomato[\"cuisines\"]+ \" \"+ zomato[\"dish_liked\"]+ \" \"+ zomato[\"rest_type\"]"
   ]
  },
  {
   "cell_type": "code",
   "execution_count": 48,
   "metadata": {},
   "outputs": [
    {
     "name": "stdout",
     "output_type": "stream",
     "text": [
      "0        4.1/5\n",
      "1        4.1/5\n",
      "2        3.8/5\n",
      "3        3.7/5\n",
      "4        3.8/5\n",
      "5        3.8/5\n",
      "6        4.6/5\n",
      "7        4.0/5\n",
      "8        4.2/5\n",
      "9        4.1/5\n",
      "10       4.2/5\n",
      "11       4.2/5\n",
      "12       4.0/5\n",
      "13       3.8/5\n",
      "14       3.8/5\n",
      "15       3.9/5\n",
      "16       3.8/5\n",
      "17       3.9/5\n",
      "18       3.0/5\n",
      "19       3.7/5\n",
      "20       3.6/5\n",
      "21       3.8/5\n",
      "22       4.0/5\n",
      "23       2.8/5\n",
      "24       3.9/5\n",
      "25       4.2/5\n",
      "26       3.9/5\n",
      "27       4.2/5\n",
      "28       4.4/5\n",
      "29       3.8/5\n",
      "         ...  \n",
      "23229    2.5/5\n",
      "23230    4.3/5\n",
      "23231    4.5/5\n",
      "23232    4.1/5\n",
      "23233    4.3/5\n",
      "23234    4.7/5\n",
      "23235    4.6/5\n",
      "23236    4.4/5\n",
      "23237    4.0/5\n",
      "23238    4.1/5\n",
      "23239    4.2/5\n",
      "23240    4.2/5\n",
      "23241    3.9/5\n",
      "23242    4.1/5\n",
      "23243    4.1/5\n",
      "23244    4.2/5\n",
      "23245    4.3/5\n",
      "23246    4.4/5\n",
      "23247    3.9/5\n",
      "23248    4.1/5\n",
      "23249    4.1/5\n",
      "23250    4.1/5\n",
      "23251    4.0/5\n",
      "23252    3.9/5\n",
      "23253    4.0/5\n",
      "23254    3.8/5\n",
      "23255    3.9/5\n",
      "23256    2.8/5\n",
      "23257    2.5/5\n",
      "23258    4.3/5\n",
      "Name: rate, Length: 23259, dtype: object\n"
     ]
    },
    {
     "data": {
      "text/plain": [
       "(23259,)"
      ]
     },
     "execution_count": 48,
     "metadata": {},
     "output_type": "execute_result"
    }
   ],
   "source": [
    "#print(x)\n",
    "print(y)\n",
    "x.shape"
   ]
  },
  {
   "cell_type": "code",
   "execution_count": 11,
   "metadata": {},
   "outputs": [
    {
     "name": "stdout",
     "output_type": "stream",
     "text": [
      "(18607,) (18607,)\n",
      "(4652,) (4652,)\n"
     ]
    }
   ],
   "source": [
    "X_train, X_test, y_train, y_test = train_test_split(x,y , test_size=0.2)\n",
    "print( X_train.shape, y_train.shape)\n",
    "print (X_test.shape, y_test.shape)"
   ]
  },
  {
   "cell_type": "code",
   "execution_count": 12,
   "metadata": {},
   "outputs": [
    {
     "data": {
      "text/plain": [
       "pandas.core.series.Series"
      ]
     },
     "execution_count": 12,
     "metadata": {},
     "output_type": "execute_result"
    }
   ],
   "source": [
    "type(X_train)"
   ]
  },
  {
   "cell_type": "code",
   "execution_count": 13,
   "metadata": {},
   "outputs": [],
   "source": [
    "# count_vector = CountVectorizer()\n",
    "# count_vector.fit(X_train.Text)\n",
    "# names = count_vector.get_feature_names()\n",
    "# names\n",
    "v = TfidfVectorizer()\n",
    "# cuisines = v.fit_transform(X_train['cuisines'])  #FORMULA IS USING TRAINING DATASET\n",
    "# location = v.fit_transform(X_train['location'])\n",
    "# rest_type = v.fit_transform(X_train['rest_type'])\n",
    "dish_liked= v.fit_transform(X_train['dish_liked'])\n",
    "# = X_train['cost_for_2']\n",
    "#x_train_final= v.fit_transform(X_train)"
   ]
  },
  {
   "cell_type": "code",
   "execution_count": 14,
   "metadata": {},
   "outputs": [
    {
     "data": {
      "text/plain": [
       "(18607, 1540)"
      ]
     },
     "execution_count": 14,
     "metadata": {},
     "output_type": "execute_result"
    }
   ],
   "source": [
    "x_train_tf.shape"
   ]
  },
  {
   "cell_type": "code",
   "execution_count": 15,
   "metadata": {},
   "outputs": [
    {
     "data": {
      "text/plain": [
       "scipy.sparse.csr.csr_matrix"
      ]
     },
     "execution_count": 15,
     "metadata": {},
     "output_type": "execute_result"
    }
   ],
   "source": [
    "type(x_train_tf)"
   ]
  },
  {
   "cell_type": "code",
   "execution_count": 16,
   "metadata": {
    "scrolled": true
   },
   "outputs": [
    {
     "data": {
      "text/plain": [
       "1354     3.9/5\n",
       "19382    4.6/5\n",
       "240      4.3/5\n",
       "23209    4.4/5\n",
       "5900     4.3/5\n",
       "5911     4.2/5\n",
       "11474    3.7/5\n",
       "21190    3.8/5\n",
       "22856    4.0/5\n",
       "14519    4.3/5\n",
       "1081     4.0/5\n",
       "13753    3.8/5\n",
       "12257    4.3/5\n",
       "8505     3.9/5\n",
       "1583     4.0/5\n",
       "15134    4.2/5\n",
       "6479     4.0/5\n",
       "5969     4.2/5\n",
       "17162    2.1/5\n",
       "9735     3.7/5\n",
       "1674     3.9/5\n",
       "13017    3.4/5\n",
       "19511    4.3/5\n",
       "20371    4.0/5\n",
       "9794     4.0/5\n",
       "17719    3.9/5\n",
       "12082    3.8/5\n",
       "2148     3.9/5\n",
       "16347    3.1/5\n",
       "19917    3.6/5\n",
       "         ...  \n",
       "17562    3.8/5\n",
       "13683    4.2/5\n",
       "3308     3.5/5\n",
       "3678     4.0/5\n",
       "8096     3.8/5\n",
       "21762    4.5/5\n",
       "22500    3.3/5\n",
       "1631     3.5/5\n",
       "21704    3.4/5\n",
       "13749    4.2/5\n",
       "6960     4.1/5\n",
       "19044    3.9/5\n",
       "851      3.7/5\n",
       "4989     4.8/5\n",
       "22438    4.4/5\n",
       "15774    4.1/5\n",
       "1172     3.6/5\n",
       "10399    3.8/5\n",
       "23161    3.8/5\n",
       "3147     4.6/5\n",
       "963      4.1/5\n",
       "5914     3.9/5\n",
       "15970    3.7/5\n",
       "5113     4.3/5\n",
       "17780    4.0/5\n",
       "11090    4.4/5\n",
       "4986     4.3/5\n",
       "1978     2.9/5\n",
       "18490    3.7/5\n",
       "23068    3.8/5\n",
       "Name: rate, Length: 18607, dtype: object"
      ]
     },
     "execution_count": 16,
     "metadata": {},
     "output_type": "execute_result"
    }
   ],
   "source": [
    "y_train"
   ]
  },
  {
   "cell_type": "code",
   "execution_count": 17,
   "metadata": {},
   "outputs": [],
   "source": [
    "# cuisines1 = v.transform(X_test['cuisines'])  #FORMULA IS USING TEST DATASET\n",
    "# location1 = v.transform(X_test['location'])\n",
    "# rest_type1 = v.transform(X_test['rest_type'])\n",
    "x_test_tf= v.transform(X_test)\n",
    "# cost_for_21 = X_test['cost_for_2']\n",
    "#x_test_tf=v.transform(X_test['rate'])\n",
    "#x_test_tfidf= tfidf_transformer.fit(x_test_tf)\n",
    "#x_test_tfidf= tfidf_transformer.transform(x_test_tf)\n",
    "#v.transform(x_test_tfidf)\n",
    "#predicted=clf.predict(x_test_tf)"
   ]
  },
  {
   "cell_type": "code",
   "execution_count": 18,
   "metadata": {},
   "outputs": [
    {
     "name": "stdout",
     "output_type": "stream",
     "text": [
      "  (0, 104)\t0.3028938018764963\n",
      "  (0, 1104)\t0.3022852210689338\n",
      "  (0, 491)\t0.1674217012406564\n",
      "  (0, 516)\t0.1280110350667245\n",
      "  (0, 1369)\t0.3414673055966101\n",
      "  (0, 542)\t0.24354087266331864\n",
      "  (0, 189)\t0.2535283922427207\n",
      "  (0, 1393)\t0.3391291450606012\n",
      "  (0, 562)\t0.4361010044975445\n",
      "  (0, 340)\t0.262531847783181\n",
      "  (0, 297)\t0.3496769397096658\n",
      "  (0, 1158)\t0.1340733983205217\n",
      "  (0, 165)\t0.13382131028000047\n",
      "  (1, 901)\t0.20515898476591987\n",
      "  (1, 1203)\t0.11342354065093146\n",
      "  (1, 289)\t0.09415743516990845\n",
      "  (1, 52)\t0.18119799615001125\n",
      "  (1, 245)\t0.3718135862513357\n",
      "  (1, 1415)\t0.15463920101423195\n",
      "  (1, 454)\t0.25811788667202157\n",
      "  (1, 983)\t0.1597521111200316\n",
      "  (1, 322)\t0.13760473601233236\n",
      "  (1, 928)\t0.15578823365412267\n",
      "  (1, 858)\t0.22942159727831948\n",
      "  (1, 871)\t0.3581394915118372\n",
      "  :\t:\n",
      "  (18605, 423)\t0.2145498552210801\n",
      "  (18605, 632)\t0.20368230502328918\n",
      "  (18605, 984)\t0.21459333267059946\n",
      "  (18605, 254)\t0.21882931279106443\n",
      "  (18605, 159)\t0.5567036906450414\n",
      "  (18605, 946)\t0.48207098346803345\n",
      "  (18605, 861)\t0.5255795652440098\n",
      "  (18606, 423)\t0.11194902504576579\n",
      "  (18606, 1511)\t0.2588214332371127\n",
      "  (18606, 632)\t0.10627849383974389\n",
      "  (18606, 984)\t0.11197171095287187\n",
      "  (18606, 254)\t0.11418198438377515\n",
      "  (18606, 285)\t0.11681020035820769\n",
      "  (18606, 225)\t0.20987758025595088\n",
      "  (18606, 786)\t0.24516629788232686\n",
      "  (18606, 1427)\t0.22402161721125963\n",
      "  (18606, 1026)\t0.19963462051917744\n",
      "  (18606, 843)\t0.3197241447255931\n",
      "  (18606, 1439)\t0.22840475990938985\n",
      "  (18606, 957)\t0.20905417655457736\n",
      "  (18606, 946)\t0.25153769759709155\n",
      "  (18606, 392)\t0.24905183200227654\n",
      "  (18606, 833)\t0.2668066497488732\n",
      "  (18606, 1207)\t0.3808315991901227\n",
      "  (18606, 744)\t0.3689942225622734\n"
     ]
    }
   ],
   "source": [
    "print(x_train_tf)"
   ]
  },
  {
   "cell_type": "code",
   "execution_count": 19,
   "metadata": {},
   "outputs": [
    {
     "data": {
      "text/plain": [
       "(18607, 1540)"
      ]
     },
     "execution_count": 19,
     "metadata": {},
     "output_type": "execute_result"
    }
   ],
   "source": [
    "x_train_tf.shape"
   ]
  },
  {
   "cell_type": "code",
   "execution_count": 20,
   "metadata": {},
   "outputs": [
    {
     "name": "stdout",
     "output_type": "stream",
     "text": [
      "(4652, 1540)\n"
     ]
    }
   ],
   "source": [
    "print(x_test_tf.shape)"
   ]
  },
  {
   "cell_type": "code",
   "execution_count": 21,
   "metadata": {},
   "outputs": [],
   "source": [
    "clf = MultinomialNB().fit(x_train_tf, y_train) #FORMULA IS USING FITTED DATASET AND Y_TRAIN"
   ]
  },
  {
   "cell_type": "code",
   "execution_count": 22,
   "metadata": {},
   "outputs": [],
   "source": [
    "predicted=clf.predict(x_test_tf)"
   ]
  },
  {
   "cell_type": "code",
   "execution_count": 23,
   "metadata": {},
   "outputs": [],
   "source": [
    "from sklearn import metrics"
   ]
  },
  {
   "cell_type": "code",
   "execution_count": 24,
   "metadata": {},
   "outputs": [
    {
     "name": "stdout",
     "output_type": "stream",
     "text": [
      "accuracy : 0.3933791917454858\n",
      "              precision    recall  f1-score   support\n",
      "\n",
      "       2.0/5       0.00      0.00      0.00         2\n",
      "       2.1/5       0.00      0.00      0.00         3\n",
      "       2.2/5       0.00      0.00      0.00        10\n",
      "       2.3/5       0.00      0.00      0.00         6\n",
      "       2.4/5       0.00      0.00      0.00         5\n",
      "       2.5/5       0.00      0.00      0.00        10\n",
      "       2.6/5       0.00      0.00      0.00        24\n",
      "       2.7/5       0.00      0.00      0.00        40\n",
      "       2.8/5       0.00      0.00      0.00        57\n",
      "       2.9/5       0.00      0.00      0.00        70\n",
      "       3.0/5       1.00      0.02      0.04        54\n",
      "       3.1/5       0.00      0.00      0.00        58\n",
      "       3.2/5       0.00      0.00      0.00        54\n",
      "       3.3/5       0.00      0.00      0.00        49\n",
      "       3.4/5       1.00      0.01      0.03        74\n",
      "       3.5/5       0.91      0.10      0.18       103\n",
      "       3.6/5       0.69      0.05      0.10       173\n",
      "       3.7/5       0.36      0.21      0.26       336\n",
      "       3.8/5       0.30      0.45      0.36       522\n",
      "       3.9/5       0.31      0.63      0.41       650\n",
      "       4.0/5       0.38      0.45      0.41       545\n",
      "       4.1/5       0.40      0.56      0.47       567\n",
      "       4.2/5       0.52      0.50      0.51       429\n",
      "       4.3/5       0.59      0.52      0.56       344\n",
      "       4.4/5       0.68      0.43      0.53       223\n",
      "       4.5/5       0.77      0.28      0.41       128\n",
      "       4.6/5       1.00      0.06      0.12        63\n",
      "       4.7/5       1.00      0.16      0.28        31\n",
      "       4.8/5       0.00      0.00      0.00        10\n",
      "       4.9/5       0.00      0.00      0.00        12\n",
      "\n",
      "   micro avg       0.39      0.39      0.39      4652\n",
      "   macro avg       0.33      0.15      0.16      4652\n",
      "weighted avg       0.44      0.39      0.36      4652\n",
      "\n"
     ]
    },
    {
     "name": "stderr",
     "output_type": "stream",
     "text": [
      "C:\\Users\\HP\\Anaconda3\\lib\\site-packages\\sklearn\\metrics\\classification.py:1143: UndefinedMetricWarning: Precision and F-score are ill-defined and being set to 0.0 in labels with no predicted samples.\n",
      "  'precision', 'predicted', average, warn_for)\n"
     ]
    },
    {
     "data": {
      "text/plain": [
       "array([[  0,   0,   0,   0,   0,   0,   0,   0,   0,   0,   0,   0,   0,\n",
       "          0,   0,   0,   0,   0,   0,   2,   0,   0,   0,   0,   0,   0,\n",
       "          0,   0,   0,   0],\n",
       "       [  0,   0,   0,   0,   0,   0,   0,   0,   0,   0,   0,   0,   0,\n",
       "          0,   0,   0,   0,   0,   0,   2,   0,   1,   0,   0,   0,   0,\n",
       "          0,   0,   0,   0],\n",
       "       [  0,   0,   0,   0,   0,   0,   0,   0,   0,   0,   0,   0,   0,\n",
       "          0,   0,   0,   0,   0,   1,   5,   0,   0,   4,   0,   0,   0,\n",
       "          0,   0,   0,   0],\n",
       "       [  0,   0,   0,   0,   0,   0,   0,   0,   0,   0,   0,   0,   0,\n",
       "          0,   0,   0,   0,   0,   2,   2,   2,   0,   0,   0,   0,   0,\n",
       "          0,   0,   0,   0],\n",
       "       [  0,   0,   0,   0,   0,   0,   0,   0,   0,   0,   0,   0,   0,\n",
       "          0,   0,   0,   0,   0,   2,   2,   1,   0,   0,   0,   0,   0,\n",
       "          0,   0,   0,   0],\n",
       "       [  0,   0,   0,   0,   0,   0,   0,   0,   0,   0,   0,   0,   0,\n",
       "          0,   0,   0,   0,   0,   1,   5,   4,   0,   0,   0,   0,   0,\n",
       "          0,   0,   0,   0],\n",
       "       [  0,   0,   0,   0,   0,   0,   0,   0,   0,   0,   0,   0,   0,\n",
       "          0,   0,   0,   0,   2,   6,  13,   2,   0,   0,   1,   0,   0,\n",
       "          0,   0,   0,   0],\n",
       "       [  0,   0,   0,   0,   0,   0,   0,   0,   0,   0,   0,   0,   0,\n",
       "          0,   0,   0,   0,   1,   2,  27,   2,   6,   2,   0,   0,   0,\n",
       "          0,   0,   0,   0],\n",
       "       [  0,   0,   0,   0,   0,   0,   0,   0,   0,   0,   0,   0,   0,\n",
       "          0,   0,   0,   0,   1,  11,  37,   5,   0,   0,   3,   0,   0,\n",
       "          0,   0,   0,   0],\n",
       "       [  0,   0,   0,   0,   0,   0,   0,   0,   0,   0,   0,   0,   0,\n",
       "          0,   0,   0,   2,   2,  14,  40,   6,   4,   0,   2,   0,   0,\n",
       "          0,   0,   0,   0],\n",
       "       [  0,   0,   0,   0,   0,   0,   0,   0,   0,   0,   1,   0,   0,\n",
       "          0,   0,   0,   0,   0,  21,  20,   8,   2,   1,   0,   1,   0,\n",
       "          0,   0,   0,   0],\n",
       "       [  0,   0,   0,   0,   0,   0,   0,   0,   0,   0,   0,   0,   0,\n",
       "          0,   0,   1,   0,   5,   8,  30,   6,   6,   0,   2,   0,   0,\n",
       "          0,   0,   0,   0],\n",
       "       [  0,   0,   0,   0,   0,   0,   0,   0,   0,   0,   0,   0,   0,\n",
       "          0,   0,   0,   0,   8,  19,  19,   4,   4,   0,   0,   0,   0,\n",
       "          0,   0,   0,   0],\n",
       "       [  0,   0,   0,   0,   0,   0,   0,   0,   0,   0,   0,   0,   0,\n",
       "          0,   0,   0,   0,  12,  16,  17,   0,   3,   1,   0,   0,   0,\n",
       "          0,   0,   0,   0],\n",
       "       [  0,   0,   0,   0,   0,   0,   0,   0,   0,   0,   0,   0,   0,\n",
       "          0,   1,   0,   0,   7,  27,  31,   3,   0,   4,   1,   0,   0,\n",
       "          0,   0,   0,   0],\n",
       "       [  0,   0,   0,   0,   0,   0,   0,   0,   0,   0,   0,   0,   0,\n",
       "          0,   0,  10,   0,   8,  31,  40,   8,   4,   1,   0,   1,   0,\n",
       "          0,   0,   0,   0],\n",
       "       [  0,   0,   0,   0,   0,   0,   0,   0,   0,   0,   0,   0,   0,\n",
       "          0,   0,   0,   9,  18,  55,  57,  15,  15,   1,   3,   0,   0,\n",
       "          0,   0,   0,   0],\n",
       "       [  0,   0,   0,   0,   0,   0,   0,   0,   0,   0,   0,   0,   0,\n",
       "          0,   0,   0,   0,  69,  83, 111,  32,  26,  10,   5,   0,   0,\n",
       "          0,   0,   0,   0],\n",
       "       [  0,   0,   0,   0,   0,   0,   0,   0,   0,   0,   0,   0,   0,\n",
       "          0,   0,   0,   0,  19, 234, 127,  64,  57,  13,   5,   0,   3,\n",
       "          0,   0,   0,   0],\n",
       "       [  0,   0,   0,   0,   0,   0,   0,   0,   0,   0,   0,   0,   0,\n",
       "          0,   0,   0,   1,  13,  78, 410,  70,  47,  22,   6,   0,   3,\n",
       "          0,   0,   0,   0],\n",
       "       [  0,   0,   0,   0,   0,   0,   0,   0,   0,   0,   0,   0,   0,\n",
       "          0,   0,   0,   1,   6,  65, 123, 243,  85,  11,   7,   4,   0,\n",
       "          0,   0,   0,   0],\n",
       "       [  0,   0,   0,   0,   0,   0,   0,   0,   0,   0,   0,   0,   0,\n",
       "          0,   0,   0,   0,   9,  47,  79,  57, 316,  32,  20,   7,   0,\n",
       "          0,   0,   0,   0],\n",
       "       [  0,   0,   0,   0,   0,   0,   0,   0,   0,   0,   0,   0,   0,\n",
       "          0,   0,   0,   0,   4,  29,  63,  34,  62, 216,  18,   3,   0,\n",
       "          0,   0,   0,   0],\n",
       "       [  0,   0,   0,   0,   0,   0,   0,   0,   0,   0,   0,   0,   0,\n",
       "          0,   0,   0,   0,   5,  12,  32,  29,  47,  33, 179,   6,   1,\n",
       "          0,   0,   0,   0],\n",
       "       [  0,   0,   0,   0,   0,   0,   0,   0,   0,   0,   0,   0,   0,\n",
       "          0,   0,   0,   0,   3,   9,  17,  19,  41,  21,  15,  97,   1,\n",
       "          0,   0,   0,   0],\n",
       "       [  0,   0,   0,   0,   0,   0,   0,   0,   0,   0,   0,   0,   0,\n",
       "          0,   0,   0,   0,   1,   5,  11,   9,  23,  15,  17,  11,  36,\n",
       "          0,   0,   0,   0],\n",
       "       [  0,   0,   0,   0,   0,   0,   0,   0,   0,   0,   0,   0,   0,\n",
       "          0,   0,   0,   0,   0,   2,   4,   4,  23,  10,   8,   5,   3,\n",
       "          4,   0,   0,   0],\n",
       "       [  0,   0,   0,   0,   0,   0,   0,   0,   0,   0,   0,   0,   0,\n",
       "          0,   0,   0,   0,   0,   0,   0,   3,   7,   8,   6,   2,   0,\n",
       "          0,   5,   0,   0],\n",
       "       [  0,   0,   0,   0,   0,   0,   0,   0,   0,   0,   0,   0,   0,\n",
       "          0,   0,   0,   0,   0,   0,   0,   1,   1,   5,   3,   0,   0,\n",
       "          0,   0,   0,   0],\n",
       "       [  0,   0,   0,   0,   0,   0,   0,   0,   0,   0,   0,   0,   0,\n",
       "          0,   0,   0,   0,   0,   0,   0,   3,   2,   2,   0,   5,   0,\n",
       "          0,   0,   0,   0]], dtype=int64)"
      ]
     },
     "execution_count": 24,
     "metadata": {},
     "output_type": "execute_result"
    }
   ],
   "source": [
    "from sklearn.metrics import accuracy_score\n",
    "print('accuracy :',accuracy_score(y_test,predicted))\n",
    "print(metrics.classification_report(y_test, predicted, target_names=lables))\n",
    "metrics.confusion_matrix(y_test,predicted)"
   ]
  },
  {
   "cell_type": "code",
   "execution_count": 25,
   "metadata": {},
   "outputs": [],
   "source": [
    "BernNB = BernoulliNB(binarize=0.1)"
   ]
  },
  {
   "cell_type": "code",
   "execution_count": 26,
   "metadata": {},
   "outputs": [
    {
     "data": {
      "text/plain": [
       "BernoulliNB(alpha=1.0, binarize=0.1, class_prior=None, fit_prior=True)"
      ]
     },
     "execution_count": 26,
     "metadata": {},
     "output_type": "execute_result"
    }
   ],
   "source": [
    "BernNB.fit(x_train_tf, y_train)"
   ]
  },
  {
   "cell_type": "code",
   "execution_count": 27,
   "metadata": {},
   "outputs": [],
   "source": [
    "y_expect= y_test\n",
    "y_pred = BernNB.predict(x_test_tf)"
   ]
  },
  {
   "cell_type": "code",
   "execution_count": 28,
   "metadata": {},
   "outputs": [
    {
     "name": "stdout",
     "output_type": "stream",
     "text": [
      "accuracy 0.4120808254514187\n"
     ]
    }
   ],
   "source": [
    "print('accuracy', accuracy_score(y_expect, y_pred))"
   ]
  },
  {
   "cell_type": "code",
<<<<<<< HEAD
   "execution_count": 29,
   "metadata": {},
   "outputs": [],
   "source": [
    "GausNB = GaussianNB()\n",
    "#x_train_tf_array= np.array(x_train_tf)\n"
=======
   "execution_count": 34,
   "metadata": {},
   "outputs": [],
   "source": [
    "from sklearn.linear_model import LinearRegression\n",
    "from sklearn.metrics import r2_score\n",
    "LR = LinearRegression()"
>>>>>>> b5ad61d... adding more algos
   ]
  },
  {
   "cell_type": "code",
<<<<<<< HEAD
   "execution_count": 30,
   "metadata": {},
   "outputs": [],
   "source": [
    "GausNB.fit(x_train_tf.toarray(), y_train)\n",
    "y_pred_Gaus = GausNB.predict(x_test_tf.toarray())"
=======
   "execution_count": 35,
   "metadata": {},
   "outputs": [],
   "source": [
    "clf = LR.fit(x_train_tfidf, y_train)\n",
    "predicted = clf.predict(x_test_tfidf)"
>>>>>>> b5ad61d... adding more algos
   ]
  },
  {
   "cell_type": "code",
<<<<<<< HEAD
   "execution_count": 31,
=======
   "execution_count": 36,
>>>>>>> b5ad61d... adding more algos
   "metadata": {},
   "outputs": [
    {
     "name": "stdout",
     "output_type": "stream",
     "text": [
<<<<<<< HEAD
      "accuracy 0.33125537403267413\n"
     ]
    }
   ],
   "source": [
    "print('accuracy', accuracy_score(y_expect, y_pred_Gaus))"
   ]
  },
  {
   "cell_type": "code",
   "execution_count": 46,
   "metadata": {},
   "outputs": [
    {
     "ename": "ValueError",
     "evalue": "Unknown label type: 'continuous'",
     "output_type": "error",
     "traceback": [
      "\u001b[1;31m---------------------------------------------------------------------------\u001b[0m",
      "\u001b[1;31mValueError\u001b[0m                                Traceback (most recent call last)",
      "\u001b[1;32m<ipython-input-46-c3151cff8742>\u001b[0m in \u001b[0;36m<module>\u001b[1;34m\u001b[0m\n\u001b[0;32m      1\u001b[0m \u001b[0mclf_gini\u001b[0m \u001b[1;33m=\u001b[0m \u001b[0mDecisionTreeClassifier\u001b[0m\u001b[1;33m(\u001b[0m\u001b[0mrandom_state\u001b[0m\u001b[1;33m=\u001b[0m\u001b[1;36m100\u001b[0m\u001b[1;33m)\u001b[0m\u001b[1;33m\u001b[0m\u001b[1;33m\u001b[0m\u001b[0m\n\u001b[1;32m----> 2\u001b[1;33m \u001b[0mclf_gini\u001b[0m\u001b[1;33m.\u001b[0m\u001b[0mfit\u001b[0m\u001b[1;33m(\u001b[0m\u001b[0mx_train_tf\u001b[0m\u001b[1;33m,\u001b[0m \u001b[0my_train\u001b[0m\u001b[1;33m)\u001b[0m\u001b[1;33m\u001b[0m\u001b[1;33m\u001b[0m\u001b[0m\n\u001b[0m\u001b[0;32m      3\u001b[0m \u001b[0my_pred_gini\u001b[0m \u001b[1;33m=\u001b[0m \u001b[0mclf_gini\u001b[0m\u001b[1;33m.\u001b[0m\u001b[0mpredict\u001b[0m\u001b[1;33m(\u001b[0m\u001b[0mx_test_tf\u001b[0m\u001b[1;33m)\u001b[0m\u001b[1;33m\u001b[0m\u001b[1;33m\u001b[0m\u001b[0m\n\u001b[0;32m      4\u001b[0m \u001b[0my_pred_gini\u001b[0m\u001b[1;33m\u001b[0m\u001b[1;33m\u001b[0m\u001b[0m\n",
      "\u001b[1;32m~\\Anaconda3\\lib\\site-packages\\sklearn\\tree\\tree.py\u001b[0m in \u001b[0;36mfit\u001b[1;34m(self, X, y, sample_weight, check_input, X_idx_sorted)\u001b[0m\n\u001b[0;32m    799\u001b[0m             \u001b[0msample_weight\u001b[0m\u001b[1;33m=\u001b[0m\u001b[0msample_weight\u001b[0m\u001b[1;33m,\u001b[0m\u001b[1;33m\u001b[0m\u001b[1;33m\u001b[0m\u001b[0m\n\u001b[0;32m    800\u001b[0m             \u001b[0mcheck_input\u001b[0m\u001b[1;33m=\u001b[0m\u001b[0mcheck_input\u001b[0m\u001b[1;33m,\u001b[0m\u001b[1;33m\u001b[0m\u001b[1;33m\u001b[0m\u001b[0m\n\u001b[1;32m--> 801\u001b[1;33m             X_idx_sorted=X_idx_sorted)\n\u001b[0m\u001b[0;32m    802\u001b[0m         \u001b[1;32mreturn\u001b[0m \u001b[0mself\u001b[0m\u001b[1;33m\u001b[0m\u001b[1;33m\u001b[0m\u001b[0m\n\u001b[0;32m    803\u001b[0m \u001b[1;33m\u001b[0m\u001b[0m\n",
      "\u001b[1;32m~\\Anaconda3\\lib\\site-packages\\sklearn\\tree\\tree.py\u001b[0m in \u001b[0;36mfit\u001b[1;34m(self, X, y, sample_weight, check_input, X_idx_sorted)\u001b[0m\n\u001b[0;32m    138\u001b[0m \u001b[1;33m\u001b[0m\u001b[0m\n\u001b[0;32m    139\u001b[0m         \u001b[1;32mif\u001b[0m \u001b[0mis_classification\u001b[0m\u001b[1;33m:\u001b[0m\u001b[1;33m\u001b[0m\u001b[1;33m\u001b[0m\u001b[0m\n\u001b[1;32m--> 140\u001b[1;33m             \u001b[0mcheck_classification_targets\u001b[0m\u001b[1;33m(\u001b[0m\u001b[0my\u001b[0m\u001b[1;33m)\u001b[0m\u001b[1;33m\u001b[0m\u001b[1;33m\u001b[0m\u001b[0m\n\u001b[0m\u001b[0;32m    141\u001b[0m             \u001b[0my\u001b[0m \u001b[1;33m=\u001b[0m \u001b[0mnp\u001b[0m\u001b[1;33m.\u001b[0m\u001b[0mcopy\u001b[0m\u001b[1;33m(\u001b[0m\u001b[0my\u001b[0m\u001b[1;33m)\u001b[0m\u001b[1;33m\u001b[0m\u001b[1;33m\u001b[0m\u001b[0m\n\u001b[0;32m    142\u001b[0m \u001b[1;33m\u001b[0m\u001b[0m\n",
      "\u001b[1;32m~\\Anaconda3\\lib\\site-packages\\sklearn\\utils\\multiclass.py\u001b[0m in \u001b[0;36mcheck_classification_targets\u001b[1;34m(y)\u001b[0m\n\u001b[0;32m    169\u001b[0m     if y_type not in ['binary', 'multiclass', 'multiclass-multioutput',\n\u001b[0;32m    170\u001b[0m                       'multilabel-indicator', 'multilabel-sequences']:\n\u001b[1;32m--> 171\u001b[1;33m         \u001b[1;32mraise\u001b[0m \u001b[0mValueError\u001b[0m\u001b[1;33m(\u001b[0m\u001b[1;34m\"Unknown label type: %r\"\u001b[0m \u001b[1;33m%\u001b[0m \u001b[0my_type\u001b[0m\u001b[1;33m)\u001b[0m\u001b[1;33m\u001b[0m\u001b[1;33m\u001b[0m\u001b[0m\n\u001b[0m\u001b[0;32m    172\u001b[0m \u001b[1;33m\u001b[0m\u001b[0m\n\u001b[0;32m    173\u001b[0m \u001b[1;33m\u001b[0m\u001b[0m\n",
      "\u001b[1;31mValueError\u001b[0m: Unknown label type: 'continuous'"
     ]
    }
   ],
   "source": [
    "clf_gini = DecisionTreeClassifier(random_state=100)\n",
    "clf_gini.fit(x_train_tf, y_train)\n",
    "y_pred_gini = clf_gini.predict(x_test_tf)\n",
    "y_pred_gini"
   ]
  },
  {
   "cell_type": "code",
   "execution_count": 33,
   "metadata": {},
   "outputs": [
    {
     "name": "stdout",
     "output_type": "stream",
     "text": [
      "accuracy score 86.62940670679278 %\n"
     ]
    }
   ],
   "source": [
    "print('accuracy score', accuracy_score(y_expect, y_pred_gini)*100, '%')"
   ]
  },
  {
   "cell_type": "code",
   "execution_count": 34,
   "metadata": {},
   "outputs": [
    {
     "data": {
      "text/plain": [
       "array(['4.5/5', '4.4/5', '3.6/5', ..., '3.6/5', '3.9/5', '3.6/5'],\n",
       "      dtype=object)"
      ]
     },
     "execution_count": 34,
     "metadata": {},
     "output_type": "execute_result"
    }
   ],
   "source": [
    "clf_entropy= DecisionTreeClassifier(criterion = 'entropy', random_state=100)\n",
    "clf_entropy.fit(x_train_tf, y_train)\n",
    "y_pred_entropy= clf_entropy.predict(x_test_tf)\n",
    "y_pred_entropy"
   ]
  },
  {
   "cell_type": "code",
   "execution_count": 35,
   "metadata": {},
   "outputs": [
    {
     "name": "stdout",
     "output_type": "stream",
     "text": [
      "accuracy score :  86.58641444539983 %\n"
     ]
    }
   ],
   "source": [
    "print('accuracy score : ', accuracy_score(y_expect, y_pred_entropy)*100, '%')"
   ]
  },
  {
   "cell_type": "code",
   "execution_count": 38,
   "metadata": {},
   "outputs": [],
   "source": [
    "# y_train = y_train.to_string\n",
    "y_train = y_train.str.replace('/5', '')"
   ]
  },
  {
   "cell_type": "code",
   "execution_count": 39,
   "metadata": {},
   "outputs": [],
   "source": [
    "y_train = y_train.astype(float)"
   ]
  },
  {
   "cell_type": "code",
   "execution_count": 40,
   "metadata": {},
   "outputs": [
    {
     "data": {
      "text/plain": [
       "RandomForestRegressor(bootstrap=True, criterion='mse', max_depth=None,\n",
       "           max_features='auto', max_leaf_nodes=None,\n",
       "           min_impurity_decrease=0.0, min_impurity_split=None,\n",
       "           min_samples_leaf=1, min_samples_split=2,\n",
       "           min_weight_fraction_leaf=0.0, n_estimators=1000, n_jobs=None,\n",
       "           oob_score=False, random_state=42, verbose=0, warm_start=False)"
      ]
     },
     "execution_count": 40,
     "metadata": {},
     "output_type": "execute_result"
    }
   ],
   "source": [
    "rf = RandomForestRegressor(n_estimators = 1000, random_state = 42)\n",
    "rf.fit(x_train_tf, y_train.astype(float))"
   ]
  },
  {
   "cell_type": "code",
   "execution_count": 42,
   "metadata": {},
   "outputs": [],
   "source": [
    "y_pred_rf= rf.predict(x_test_tf)"
   ]
  },
  {
   "cell_type": "code",
   "execution_count": 47,
   "metadata": {},
   "outputs": [
    {
     "ename": "ValueError",
     "evalue": "Classification metrics can't handle a mix of multiclass and continuous targets",
     "output_type": "error",
     "traceback": [
      "\u001b[1;31m---------------------------------------------------------------------------\u001b[0m",
      "\u001b[1;31mValueError\u001b[0m                                Traceback (most recent call last)",
      "\u001b[1;32m<ipython-input-47-5a164e854a2f>\u001b[0m in \u001b[0;36m<module>\u001b[1;34m\u001b[0m\n\u001b[1;32m----> 1\u001b[1;33m \u001b[0mprint\u001b[0m\u001b[1;33m(\u001b[0m\u001b[1;34m'accuracy score:'\u001b[0m\u001b[1;33m,\u001b[0m \u001b[0maccuracy_score\u001b[0m\u001b[1;33m(\u001b[0m\u001b[0my_expect\u001b[0m\u001b[1;33m,\u001b[0m \u001b[0my_pred_rf\u001b[0m\u001b[1;33m)\u001b[0m\u001b[1;33m*\u001b[0m\u001b[1;36m100\u001b[0m\u001b[1;33m,\u001b[0m \u001b[1;34m'%'\u001b[0m\u001b[1;33m)\u001b[0m\u001b[1;33m\u001b[0m\u001b[1;33m\u001b[0m\u001b[0m\n\u001b[0m\u001b[0;32m      2\u001b[0m \u001b[1;31m#errors = abs(y_pred_rf - y_expect)\u001b[0m\u001b[1;33m\u001b[0m\u001b[1;33m\u001b[0m\u001b[1;33m\u001b[0m\u001b[0m\n",
      "\u001b[1;32m~\\Anaconda3\\lib\\site-packages\\sklearn\\metrics\\classification.py\u001b[0m in \u001b[0;36maccuracy_score\u001b[1;34m(y_true, y_pred, normalize, sample_weight)\u001b[0m\n\u001b[0;32m    174\u001b[0m \u001b[1;33m\u001b[0m\u001b[0m\n\u001b[0;32m    175\u001b[0m     \u001b[1;31m# Compute accuracy for each possible representation\u001b[0m\u001b[1;33m\u001b[0m\u001b[1;33m\u001b[0m\u001b[1;33m\u001b[0m\u001b[0m\n\u001b[1;32m--> 176\u001b[1;33m     \u001b[0my_type\u001b[0m\u001b[1;33m,\u001b[0m \u001b[0my_true\u001b[0m\u001b[1;33m,\u001b[0m \u001b[0my_pred\u001b[0m \u001b[1;33m=\u001b[0m \u001b[0m_check_targets\u001b[0m\u001b[1;33m(\u001b[0m\u001b[0my_true\u001b[0m\u001b[1;33m,\u001b[0m \u001b[0my_pred\u001b[0m\u001b[1;33m)\u001b[0m\u001b[1;33m\u001b[0m\u001b[1;33m\u001b[0m\u001b[0m\n\u001b[0m\u001b[0;32m    177\u001b[0m     \u001b[0mcheck_consistent_length\u001b[0m\u001b[1;33m(\u001b[0m\u001b[0my_true\u001b[0m\u001b[1;33m,\u001b[0m \u001b[0my_pred\u001b[0m\u001b[1;33m,\u001b[0m \u001b[0msample_weight\u001b[0m\u001b[1;33m)\u001b[0m\u001b[1;33m\u001b[0m\u001b[1;33m\u001b[0m\u001b[0m\n\u001b[0;32m    178\u001b[0m     \u001b[1;32mif\u001b[0m \u001b[0my_type\u001b[0m\u001b[1;33m.\u001b[0m\u001b[0mstartswith\u001b[0m\u001b[1;33m(\u001b[0m\u001b[1;34m'multilabel'\u001b[0m\u001b[1;33m)\u001b[0m\u001b[1;33m:\u001b[0m\u001b[1;33m\u001b[0m\u001b[1;33m\u001b[0m\u001b[0m\n",
      "\u001b[1;32m~\\Anaconda3\\lib\\site-packages\\sklearn\\metrics\\classification.py\u001b[0m in \u001b[0;36m_check_targets\u001b[1;34m(y_true, y_pred)\u001b[0m\n\u001b[0;32m     79\u001b[0m     \u001b[1;32mif\u001b[0m \u001b[0mlen\u001b[0m\u001b[1;33m(\u001b[0m\u001b[0my_type\u001b[0m\u001b[1;33m)\u001b[0m \u001b[1;33m>\u001b[0m \u001b[1;36m1\u001b[0m\u001b[1;33m:\u001b[0m\u001b[1;33m\u001b[0m\u001b[1;33m\u001b[0m\u001b[0m\n\u001b[0;32m     80\u001b[0m         raise ValueError(\"Classification metrics can't handle a mix of {0} \"\n\u001b[1;32m---> 81\u001b[1;33m                          \"and {1} targets\".format(type_true, type_pred))\n\u001b[0m\u001b[0;32m     82\u001b[0m \u001b[1;33m\u001b[0m\u001b[0m\n\u001b[0;32m     83\u001b[0m     \u001b[1;31m# We can't have more than one value on y_type => The set is no more needed\u001b[0m\u001b[1;33m\u001b[0m\u001b[1;33m\u001b[0m\u001b[1;33m\u001b[0m\u001b[0m\n",
      "\u001b[1;31mValueError\u001b[0m: Classification metrics can't handle a mix of multiclass and continuous targets"
=======
      "accuracy : 0.5311908956592065\n"
>>>>>>> b5ad61d... adding more algos
     ]
    }
   ],
   "source": [
<<<<<<< HEAD
    " print('accuracy score:', accuracy_score(y_expect, y_pred_rf)*100, '%')\n",
    "#errors = abs(y_pred_rf - y_expect)"
=======
    "print('accuracy :',r2_score(y_test, predicted))"
>>>>>>> b5ad61d... adding more algos
   ]
  }
 ],
 "metadata": {
  "kernelspec": {
   "display_name": "Python 3",
   "language": "python",
   "name": "python3"
  },
  "language_info": {
   "codemirror_mode": {
    "name": "ipython",
    "version": 3
   },
   "file_extension": ".py",
   "mimetype": "text/x-python",
   "name": "python",
   "nbconvert_exporter": "python",
   "pygments_lexer": "ipython3",
   "version": "3.7.1"
  }
 },
 "nbformat": 4,
 "nbformat_minor": 2
}
