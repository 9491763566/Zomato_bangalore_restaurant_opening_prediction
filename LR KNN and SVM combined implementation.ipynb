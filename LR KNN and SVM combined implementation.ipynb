{
 "cells": [
  {
   "cell_type": "code",
   "execution_count": 1,
   "metadata": {},
   "outputs": [],
   "source": [
    "import sys\n",
    "import scipy \n",
    "import numpy as np\n",
    "import matplotlib\n",
    "import pandas as pd\n",
    "import sklearn\n",
    "from pandas.plotting import scatter_matrix\n",
    "import matplotlib.pyplot as plt\n",
    "from sklearn import model_selection\n",
    "from sklearn.feature_extraction.text import CountVectorizer\n",
    "from sklearn.feature_extraction.text import TfidfTransformer\n",
    "from sklearn.metrics import classification_report\n",
    "from sklearn.metrics import confusion_matrix\n",
    "from sklearn.metrics import accuracy_score\n",
    "from sklearn.linear_model import LogisticRegression\n",
    "from sklearn.neighbors import KNeighborsClassifier\n",
    "from sklearn.model_selection import train_test_split\n",
    "from sklearn.svm import SVC"
   ]
  },
  {
   "cell_type": "code",
   "execution_count": 2,
   "metadata": {},
   "outputs": [],
   "source": [
    "zomato=pd.read_csv('zomato_preprocessed.csv')"
   ]
  },
  {
   "cell_type": "code",
   "execution_count": 3,
   "metadata": {},
   "outputs": [
    {
     "data": {
      "text/plain": [
       "list"
      ]
     },
     "execution_count": 3,
     "metadata": {},
     "output_type": "execute_result"
    }
   ],
   "source": [
    "catagories = zomato['rate']\n",
    "catagories = np.unique(catagories)\n",
    "lables = catagories.tolist()\n",
    "type(lables)"
   ]
  },
  {
   "cell_type": "code",
   "execution_count": 4,
   "metadata": {},
   "outputs": [],
   "source": [
    "x = zomato[\"location\"] + \" \" +zomato[\"cuisines\"]+ \" \" +zomato[\"rest_type\"]+ \" \" +zomato[\"dish_liked\"]\n",
    "y = zomato[\"rate\"]"
   ]
  },
  {
   "cell_type": "code",
   "execution_count": 5,
   "metadata": {},
   "outputs": [],
   "source": [
    "X_train, X_test, y_train, y_test = train_test_split(x, y, test_size=0.25, random_state = 7)"
   ]
  },
  {
   "cell_type": "code",
   "execution_count": 6,
   "metadata": {},
   "outputs": [],
   "source": [
    "count_vect = CountVectorizer()\n",
    "x_train_tf = count_vect.fit_transform(X_train)\n",
    "tfidf_transformer = TfidfTransformer()\n",
    "x_train_tfidf = tfidf_transformer.fit_transform(x_train_tf)"
   ]
  },
  {
   "cell_type": "code",
   "execution_count": 7,
   "metadata": {},
   "outputs": [],
   "source": [
    "x_test_tf = count_vect.transform(X_test)\n",
    "x_test_tfidf = tfidf_transformer.transform(x_test_tf)"
   ]
  },
  {
   "cell_type": "code",
   "execution_count": 9,
   "metadata": {},
   "outputs": [
    {
     "name": "stderr",
     "output_type": "stream",
     "text": [
      "D:\\Anaconda3\\lib\\site-packages\\sklearn\\linear_model\\logistic.py:433: FutureWarning: Default solver will be changed to 'lbfgs' in 0.22. Specify a solver to silence this warning.\n",
      "  FutureWarning)\n",
      "D:\\Anaconda3\\lib\\site-packages\\sklearn\\linear_model\\logistic.py:460: FutureWarning: Default multi_class will be changed to 'auto' in 0.22. Specify the multi_class option to silence this warning.\n",
      "  \"this warning.\", FutureWarning)\n"
     ]
    },
    {
     "name": "stdout",
     "output_type": "stream",
     "text": [
      "LR: 0.486986 (0.010914)\n",
      "KNN: 0.688374 (0.007177)\n"
     ]
    },
    {
     "name": "stderr",
     "output_type": "stream",
     "text": [
      "D:\\Anaconda3\\lib\\site-packages\\sklearn\\svm\\base.py:196: FutureWarning: The default value of gamma will change from 'auto' to 'scale' in version 0.22 to account better for unscaled features. Set gamma explicitly to 'auto' or 'scale' to avoid this warning.\n",
      "  \"avoid this warning.\", FutureWarning)\n"
     ]
    },
    {
     "name": "stdout",
     "output_type": "stream",
     "text": [
      "SVM: 0.139303 (0.007829)\n"
     ]
    }
   ],
   "source": [
    "models = []\n",
    "models.append(('LR', LogisticRegression()))\n",
    "models.append(('KNN', KNeighborsClassifier()))\n",
    "models.append(('SVM', SVC()))\n",
    "\n",
    "# evaluate each model in turn\n",
    "results = []\n",
    "names = []\n",
    "\n",
    "for name, model in models:\n",
    "    kfold = model_selection.KFold(n_splits=10, random_state = 7)\n",
    "    cv_results = model_selection.cross_val_score(model, x_train_tfidf, y_train, cv = kfold, scoring = 'accuracy')\n",
    "    results.append(cv_results)\n",
    "    names.append(name)\n",
    "    msg = \"%s: %f (%f)\" % (name, cv_results.mean(), cv_results.std())\n",
    "    print(msg)"
   ]
  },
  {
   "cell_type": "code",
   "execution_count": 13,
   "metadata": {},
   "outputs": [
    {
     "name": "stderr",
     "output_type": "stream",
     "text": [
      "D:\\Anaconda3\\lib\\site-packages\\sklearn\\linear_model\\logistic.py:433: FutureWarning: Default solver will be changed to 'lbfgs' in 0.22. Specify a solver to silence this warning.\n",
      "  FutureWarning)\n",
      "D:\\Anaconda3\\lib\\site-packages\\sklearn\\linear_model\\logistic.py:460: FutureWarning: Default multi_class will be changed to 'auto' in 0.22. Specify the multi_class option to silence this warning.\n",
      "  \"this warning.\", FutureWarning)\n"
     ]
    },
    {
     "name": "stdout",
     "output_type": "stream",
     "text": [
      "LR\n",
      "0.4906276870163371\n"
     ]
    },
    {
     "name": "stderr",
     "output_type": "stream",
     "text": [
      "D:\\Anaconda3\\lib\\site-packages\\sklearn\\metrics\\classification.py:1143: UndefinedMetricWarning: Precision and F-score are ill-defined and being set to 0.0 in labels with no predicted samples.\n",
      "  'precision', 'predicted', average, warn_for)\n"
     ]
    },
    {
     "name": "stdout",
     "output_type": "stream",
     "text": [
      "              precision    recall  f1-score   support\n",
      "\n",
      "       1.8/5       0.00      0.00      0.00         1\n",
      "       2.0/5       1.00      1.00      1.00         2\n",
      "       2.1/5       0.00      0.00      0.00         7\n",
      "       2.2/5       1.00      1.00      1.00         4\n",
      "       2.3/5       1.00      0.17      0.29        12\n",
      "       2.4/5       0.00      0.00      0.00        17\n",
      "       2.5/5       0.00      0.00      0.00        14\n",
      "       2.6/5       1.00      0.07      0.12        30\n",
      "       2.7/5       0.62      0.12      0.20        41\n",
      "       2.8/5       1.00      0.22      0.37        89\n",
      "       2.9/5       0.71      0.18      0.29        66\n",
      "       3.0/5       0.58      0.11      0.19        63\n",
      "       3.1/5       0.82      0.11      0.20        81\n",
      "       3.2/5       0.00      0.00      0.00        60\n",
      "       3.3/5       0.50      0.10      0.16        42\n",
      "       3.4/5       0.77      0.26      0.39        87\n",
      "       3.5/5       0.68      0.15      0.24       130\n",
      "       3.6/5       0.43      0.26      0.32       229\n",
      "       3.7/5       0.41      0.33      0.36       444\n",
      "       3.8/5       0.40      0.51      0.45       614\n",
      "       3.9/5       0.42      0.61      0.49       820\n",
      "       4.0/5       0.44      0.56      0.49       728\n",
      "       4.1/5       0.48      0.60      0.53       686\n",
      "       4.2/5       0.55      0.60      0.58       513\n",
      "       4.3/5       0.64      0.59      0.61       426\n",
      "       4.4/5       0.69      0.64      0.66       293\n",
      "       4.5/5       0.86      0.61      0.71       166\n",
      "       4.6/5       0.96      0.36      0.52        73\n",
      "       4.7/5       0.95      0.50      0.66        40\n",
      "       4.8/5       1.00      0.12      0.21        17\n",
      "       4.9/5       1.00      0.45      0.62        20\n",
      "\n",
      "   micro avg       0.49      0.49      0.49      5815\n",
      "   macro avg       0.61      0.33      0.38      5815\n",
      "weighted avg       0.52      0.49      0.48      5815\n",
      "\n",
      "KNN\n",
      "0.7284608770421325\n",
      "              precision    recall  f1-score   support\n",
      "\n",
      "       1.8/5       1.00      1.00      1.00         1\n",
      "       2.0/5       1.00      1.00      1.00         2\n",
      "       2.1/5       1.00      0.57      0.73         7\n",
      "       2.2/5       0.80      1.00      0.89         4\n",
      "       2.3/5       0.62      0.67      0.64        12\n",
      "       2.4/5       0.55      0.65      0.59        17\n",
      "       2.5/5       0.41      0.50      0.45        14\n",
      "       2.6/5       0.39      0.73      0.51        30\n",
      "       2.7/5       0.60      0.80      0.69        41\n",
      "       2.8/5       0.60      0.74      0.66        89\n",
      "       2.9/5       0.55      0.71      0.62        66\n",
      "       3.0/5       0.45      0.62      0.52        63\n",
      "       3.1/5       0.56      0.56      0.56        81\n",
      "       3.2/5       0.43      0.48      0.46        60\n",
      "       3.3/5       0.58      0.43      0.49        42\n",
      "       3.4/5       0.61      0.67      0.64        87\n",
      "       3.5/5       0.61      0.58      0.60       130\n",
      "       3.6/5       0.59      0.56      0.58       229\n",
      "       3.7/5       0.64      0.70      0.67       444\n",
      "       3.8/5       0.72      0.72      0.72       614\n",
      "       3.9/5       0.74      0.75      0.75       820\n",
      "       4.0/5       0.74      0.69      0.72       728\n",
      "       4.1/5       0.79      0.80      0.79       686\n",
      "       4.2/5       0.86      0.76      0.81       513\n",
      "       4.3/5       0.84      0.79      0.81       426\n",
      "       4.4/5       0.83      0.81      0.82       293\n",
      "       4.5/5       0.83      0.81      0.82       166\n",
      "       4.6/5       0.87      0.73      0.79        73\n",
      "       4.7/5       0.85      0.82      0.84        40\n",
      "       4.8/5       0.80      0.71      0.75        17\n",
      "       4.9/5       1.00      0.95      0.97        20\n",
      "\n",
      "   micro avg       0.73      0.73      0.73      5815\n",
      "   macro avg       0.70      0.72      0.71      5815\n",
      "weighted avg       0.74      0.73      0.73      5815\n",
      "\n"
     ]
    },
    {
     "name": "stderr",
     "output_type": "stream",
     "text": [
      "D:\\Anaconda3\\lib\\site-packages\\sklearn\\svm\\base.py:196: FutureWarning: The default value of gamma will change from 'auto' to 'scale' in version 0.22 to account better for unscaled features. Set gamma explicitly to 'auto' or 'scale' to avoid this warning.\n",
      "  \"avoid this warning.\", FutureWarning)\n"
     ]
    },
    {
     "name": "stdout",
     "output_type": "stream",
     "text": [
      "SVM\n",
      "0.1410146173688736\n",
      "              precision    recall  f1-score   support\n",
      "\n",
      "       1.8/5       0.00      0.00      0.00         1\n",
      "       2.0/5       0.00      0.00      0.00         2\n",
      "       2.1/5       0.00      0.00      0.00         7\n",
      "       2.2/5       0.00      0.00      0.00         4\n",
      "       2.3/5       0.00      0.00      0.00        12\n",
      "       2.4/5       0.00      0.00      0.00        17\n",
      "       2.5/5       0.00      0.00      0.00        14\n",
      "       2.6/5       0.00      0.00      0.00        30\n",
      "       2.7/5       0.00      0.00      0.00        41\n",
      "       2.8/5       0.00      0.00      0.00        89\n",
      "       2.9/5       0.00      0.00      0.00        66\n",
      "       3.0/5       0.00      0.00      0.00        63\n",
      "       3.1/5       0.00      0.00      0.00        81\n",
      "       3.2/5       0.00      0.00      0.00        60\n",
      "       3.3/5       0.00      0.00      0.00        42\n",
      "       3.4/5       0.00      0.00      0.00        87\n",
      "       3.5/5       0.00      0.00      0.00       130\n",
      "       3.6/5       0.00      0.00      0.00       229\n",
      "       3.7/5       0.00      0.00      0.00       444\n",
      "       3.8/5       0.00      0.00      0.00       614\n",
      "       3.9/5       0.14      1.00      0.25       820\n",
      "       4.0/5       0.00      0.00      0.00       728\n",
      "       4.1/5       0.00      0.00      0.00       686\n",
      "       4.2/5       0.00      0.00      0.00       513\n",
      "       4.3/5       0.00      0.00      0.00       426\n",
      "       4.4/5       0.00      0.00      0.00       293\n",
      "       4.5/5       0.00      0.00      0.00       166\n",
      "       4.6/5       0.00      0.00      0.00        73\n",
      "       4.7/5       0.00      0.00      0.00        40\n",
      "       4.8/5       0.00      0.00      0.00        17\n",
      "       4.9/5       0.00      0.00      0.00        20\n",
      "\n",
      "   micro avg       0.14      0.14      0.14      5815\n",
      "   macro avg       0.00      0.03      0.01      5815\n",
      "weighted avg       0.02      0.14      0.03      5815\n",
      "\n"
     ]
    },
    {
     "name": "stderr",
     "output_type": "stream",
     "text": [
      "D:\\Anaconda3\\lib\\site-packages\\sklearn\\metrics\\classification.py:1143: UndefinedMetricWarning: Precision and F-score are ill-defined and being set to 0.0 in labels with no predicted samples.\n",
      "  'precision', 'predicted', average, warn_for)\n"
     ]
    }
   ],
   "source": [
    "for name, model in models:\n",
    "    model.fit(x_train_tfidf, y_train)\n",
    "    predictions = model.predict(x_test_tfidf)\n",
    "    print(name)\n",
    "    print(accuracy_score(y_test, predictions))\n",
    "    print(classification_report(y_test, predictions))"
   ]
  },
  {
   "cell_type": "code",
   "execution_count": null,
   "metadata": {},
   "outputs": [],
   "source": []
  }
 ],
 "metadata": {
  "kernelspec": {
   "display_name": "Python 3",
   "language": "python",
   "name": "python3"
  },
  "language_info": {
   "codemirror_mode": {
    "name": "ipython",
    "version": 3
   },
   "file_extension": ".py",
   "mimetype": "text/x-python",
   "name": "python",
   "nbconvert_exporter": "python",
   "pygments_lexer": "ipython3",
   "version": "3.7.3"
  }
 },
 "nbformat": 4,
 "nbformat_minor": 2
}
