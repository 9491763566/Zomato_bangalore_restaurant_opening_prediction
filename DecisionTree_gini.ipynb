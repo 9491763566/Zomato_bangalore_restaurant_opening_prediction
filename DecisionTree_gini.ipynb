{
 "cells": [
  {
   "cell_type": "code",
   "execution_count": 1,
   "metadata": {},
   "outputs": [],
   "source": [
    "import sklearn.datasets as skd\n",
    "from sklearn.pipeline import Pipeline\n",
    "from sklearn.feature_extraction.text import TfidfVectorizer\n",
    "from sklearn.naive_bayes import MultinomialNB\n",
    "from sklearn.naive_bayes import BernoulliNB\n",
    "from sklearn.naive_bayes import GaussianNB\n",
    "from sklearn.tree import DecisionTreeClassifier\n",
    "from sklearn.ensemble import RandomForestRegressor\n",
    "from sklearn import metrics\n",
    "from sklearn.metrics import accuracy_score\n",
    "import numpy as np\n",
    "import pandas as pd\n",
    "from sklearn import datasets, linear_model\n",
    "from sklearn.model_selection import train_test_split\n",
    "from matplotlib import pyplot as plt\n",
    "from sklearn.feature_extraction.text import CountVectorizer\n",
    "from sklearn.feature_extraction.text import TfidfTransformer\n",
    "from scipy import sparse\n",
    "from scipy.sparse import hstack\n",
    "from sklearn import tree\n"
   ]
  },
  {
   "cell_type": "code",
   "execution_count": 2,
   "metadata": {},
   "outputs": [
    {
     "name": "stdout",
     "output_type": "stream",
     "text": [
      "(18607,) (18607,)\n",
      "(4652,) (4652,)\n"
     ]
    }
   ],
   "source": [
    "zomato=pd.read_csv('zomato_preprocessed.csv')\n",
    "catagories = zomato['rate']\n",
    "catagories = np.unique(catagories)\n",
    "lables = catagories.tolist()\n",
    "lables.pop(0)\n",
    "y= zomato['rate']\n",
    "x= zomato[\"location\"]+ \" \"+ zomato[\"cuisines\"]+ \" \"+ zomato[\"dish_liked\"]+ \" \"+ zomato[\"rest_type\"]\n",
    "X_train, X_test, y_train, y_test = train_test_split(x,y , test_size=0.2)\n",
    "print( X_train.shape, y_train.shape)\n",
    "print (X_test.shape, y_test.shape)\n",
    "v = TfidfVectorizer()\n",
    "x_train_tf= v.fit_transform(X_train)\n",
    "x_test_tf= v.transform(X_test)\n",
    "y_expect= y_test\n"
   ]
  },
  {
   "cell_type": "code",
   "execution_count": 3,
   "metadata": {},
   "outputs": [
    {
     "data": {
      "text/plain": [
       "pandas.core.series.Series"
      ]
     },
     "execution_count": 3,
     "metadata": {},
     "output_type": "execute_result"
    }
   ],
   "source": [
    "type(y_train)"
   ]
  },
  {
   "cell_type": "code",
   "execution_count": 4,
   "metadata": {},
   "outputs": [
    {
     "name": "stdout",
     "output_type": "stream",
     "text": [
      "accuracy score 88.09114359415305 %\n"
     ]
    }
   ],
   "source": [
    "clf_gini = DecisionTreeClassifier(random_state=100)\n",
    "clf_gini.fit(x_train_tf, y_train)\n",
    "y_pred_gini = clf_gini.predict(x_test_tf)\n",
    "print('accuracy score', accuracy_score(y_expect, y_pred_gini)*100, '%')"
   ]
  }
 ],
 "metadata": {
  "kernelspec": {
   "display_name": "Python 3",
   "language": "python",
   "name": "python3"
  },
  "language_info": {
   "codemirror_mode": {
    "name": "ipython",
    "version": 3
   },
   "file_extension": ".py",
   "mimetype": "text/x-python",
   "name": "python",
   "nbconvert_exporter": "python",
   "pygments_lexer": "ipython3",
   "version": "3.7.3"
  }
 },
 "nbformat": 4,
 "nbformat_minor": 2
}
