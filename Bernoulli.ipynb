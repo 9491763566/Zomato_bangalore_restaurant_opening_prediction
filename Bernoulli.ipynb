{
 "cells": [
  {
   "cell_type": "code",
   "execution_count": 1,
   "metadata": {},
   "outputs": [],
   "source": [
    "import sklearn.datasets as skd\n",
    "from sklearn.pipeline import Pipeline\n",
    "from sklearn.feature_extraction.text import TfidfVectorizer\n",
    "from sklearn.naive_bayes import MultinomialNB\n",
    "from sklearn.naive_bayes import BernoulliNB\n",
    "from sklearn.naive_bayes import GaussianNB\n",
    "from sklearn.tree import DecisionTreeClassifier\n",
    "from sklearn.ensemble import RandomForestRegressor\n",
    "from sklearn import metrics\n",
    "from sklearn.metrics import accuracy_score\n",
    "import numpy as np\n",
    "import pandas as pd\n",
    "from sklearn import datasets, linear_model\n",
    "from sklearn.model_selection import train_test_split\n",
    "from matplotlib import pyplot as plt\n",
    "from sklearn.feature_extraction.text import CountVectorizer\n",
    "from sklearn.feature_extraction.text import TfidfTransformer\n",
    "from scipy import sparse\n",
    "from scipy.sparse import hstack\n",
    "from sklearn import tree"
   ]
  },
  {
   "cell_type": "code",
   "execution_count": 2,
   "metadata": {},
   "outputs": [],
   "source": [
    "zomato=pd.read_csv('zomato_preprocessed.csv')"
   ]
  },
  {
   "cell_type": "code",
<<<<<<< HEAD
   "execution_count": 4,
=======
   "execution_count": 3,
<<<<<<< HEAD
>>>>>>> b5ad61d... adding more algos
=======
>>>>>>> b5ad61d6ff55c2a3b35b774e1995075fed2d0033
>>>>>>> 853080f6e9ed3cf932a112ae42d58c8c2c7c82d7
   "metadata": {},
   "outputs": [],
   "source": [
    "catagories = zomato['rate']"
   ]
  },
  {
   "cell_type": "code",
<<<<<<< HEAD
   "execution_count": 5,
=======
   "execution_count": 4,
<<<<<<< HEAD
>>>>>>> b5ad61d... adding more algos
=======
>>>>>>> b5ad61d6ff55c2a3b35b774e1995075fed2d0033
>>>>>>> 853080f6e9ed3cf932a112ae42d58c8c2c7c82d7
   "metadata": {},
   "outputs": [],
   "source": [
    "catagories = zomato['rate']"
   ]
  },
  {
   "cell_type": "code",
<<<<<<< HEAD
   "execution_count": 6,
=======
   "execution_count": 5,
<<<<<<< HEAD
>>>>>>> b5ad61d... adding more algos
=======
>>>>>>> b5ad61d6ff55c2a3b35b774e1995075fed2d0033
>>>>>>> 853080f6e9ed3cf932a112ae42d58c8c2c7c82d7
   "metadata": {},
   "outputs": [],
   "source": [
    "catagories = np.unique(catagories)"
   ]
  },
  {
   "cell_type": "code",
<<<<<<< HEAD
   "execution_count": 8,
=======
   "execution_count": 6,
<<<<<<< HEAD
>>>>>>> b5ad61d... adding more algos
=======
>>>>>>> b5ad61d6ff55c2a3b35b774e1995075fed2d0033
>>>>>>> 853080f6e9ed3cf932a112ae42d58c8c2c7c82d7
   "metadata": {},
   "outputs": [
    {
     "data": {
      "text/plain": [
       "list"
      ]
     },
<<<<<<< HEAD
     "execution_count": 8,
=======
     "execution_count": 6,
<<<<<<< HEAD
>>>>>>> b5ad61d... adding more algos
=======
>>>>>>> b5ad61d6ff55c2a3b35b774e1995075fed2d0033
>>>>>>> 853080f6e9ed3cf932a112ae42d58c8c2c7c82d7
     "metadata": {},
     "output_type": "execute_result"
    }
   ],
   "source": [
    "lables = catagories.tolist()\n",
    "type(lables)"
   ]
  },
  {
   "cell_type": "code",
<<<<<<< HEAD
   "execution_count": 9,
=======
   "execution_count": 7,
<<<<<<< HEAD
>>>>>>> b5ad61d... adding more algos
=======
>>>>>>> b5ad61d6ff55c2a3b35b774e1995075fed2d0033
>>>>>>> 853080f6e9ed3cf932a112ae42d58c8c2c7c82d7
   "metadata": {},
   "outputs": [
    {
     "data": {
      "text/plain": [
       "dtype('O')"
      ]
     },
<<<<<<< HEAD
     "execution_count": 9,
=======
     "execution_count": 7,
<<<<<<< HEAD
>>>>>>> b5ad61d... adding more algos
=======
>>>>>>> b5ad61d6ff55c2a3b35b774e1995075fed2d0033
>>>>>>> 853080f6e9ed3cf932a112ae42d58c8c2c7c82d7
     "metadata": {},
     "output_type": "execute_result"
    }
   ],
   "source": [
    "lables.pop(0)\n",
    "catagories.dtype"
   ]
  },
  {
   "cell_type": "code",
<<<<<<< HEAD
   "execution_count": 10,
=======
   "execution_count": 8,
<<<<<<< HEAD
>>>>>>> b5ad61d... adding more algos
=======
>>>>>>> b5ad61d6ff55c2a3b35b774e1995075fed2d0033
>>>>>>> 853080f6e9ed3cf932a112ae42d58c8c2c7c82d7
   "metadata": {},
   "outputs": [],
   "source": [
    "y= zomato['rate']"
   ]
  },
  {
   "cell_type": "code",
<<<<<<< HEAD
   "execution_count": 11,
=======
   "execution_count": 9,
<<<<<<< HEAD
>>>>>>> b5ad61d... adding more algos
=======
>>>>>>> b5ad61d6ff55c2a3b35b774e1995075fed2d0033
>>>>>>> 853080f6e9ed3cf932a112ae42d58c8c2c7c82d7
   "metadata": {},
   "outputs": [],
   "source": [
    "x= zomato[\"location\"]+ \" \"+ zomato[\"cuisines\"]+ \" \"+ zomato[\"dish_liked\"]+ \" \"+ zomato[\"rest_type\"]"
   ]
  },
  {
   "cell_type": "code",
<<<<<<< HEAD
   "execution_count": 12,
=======
   "execution_count": 10,
<<<<<<< HEAD
>>>>>>> b5ad61d... adding more algos
=======
>>>>>>> b5ad61d6ff55c2a3b35b774e1995075fed2d0033
>>>>>>> 853080f6e9ed3cf932a112ae42d58c8c2c7c82d7
   "metadata": {},
   "outputs": [
    {
     "name": "stdout",
     "output_type": "stream",
     "text": [
      "(18607,) (18607,)\n",
      "(4652,) (4652,)\n"
     ]
    }
   ],
   "source": [
    "X_train, X_test, y_train, y_test = train_test_split(x,y , test_size=0.2)\n",
    "print( X_train.shape, y_train.shape)\n",
    "print (X_test.shape, y_test.shape)"
   ]
  },
  {
   "cell_type": "code",
<<<<<<< HEAD
   "execution_count": 13,
=======
   "execution_count": 11,
<<<<<<< HEAD
>>>>>>> b5ad61d... adding more algos
=======
>>>>>>> b5ad61d6ff55c2a3b35b774e1995075fed2d0033
>>>>>>> 853080f6e9ed3cf932a112ae42d58c8c2c7c82d7
   "metadata": {},
   "outputs": [],
   "source": [
    "v = TfidfVectorizer()\n",
    "x_train_tf= v.fit_transform(X_train)"
   ]
  },
  {
   "cell_type": "code",
<<<<<<< HEAD
   "execution_count": 14,
=======
   "execution_count": 12,
<<<<<<< HEAD
>>>>>>> b5ad61d... adding more algos
=======
>>>>>>> b5ad61d6ff55c2a3b35b774e1995075fed2d0033
>>>>>>> 853080f6e9ed3cf932a112ae42d58c8c2c7c82d7
   "metadata": {},
   "outputs": [],
   "source": [
    "x_test_tf= v.transform(X_test)"
   ]
  },
  {
   "cell_type": "code",
<<<<<<< HEAD
   "execution_count": 19,
=======
   "execution_count": 13,
<<<<<<< HEAD
>>>>>>> b5ad61d... adding more algos
=======
>>>>>>> b5ad61d6ff55c2a3b35b774e1995075fed2d0033
>>>>>>> 853080f6e9ed3cf932a112ae42d58c8c2c7c82d7
   "metadata": {},
   "outputs": [],
   "source": [
    "BernNB = BernoulliNB(binarize=0.1)"
   ]
  },
  {
   "cell_type": "code",
<<<<<<< HEAD
   "execution_count": 20,
=======
   "execution_count": 14,
<<<<<<< HEAD
>>>>>>> b5ad61d... adding more algos
=======
>>>>>>> b5ad61d6ff55c2a3b35b774e1995075fed2d0033
>>>>>>> 853080f6e9ed3cf932a112ae42d58c8c2c7c82d7
   "metadata": {},
   "outputs": [
    {
     "data": {
      "text/plain": [
       "BernoulliNB(alpha=1.0, binarize=0.1, class_prior=None, fit_prior=True)"
      ]
     },
<<<<<<< HEAD
     "execution_count": 20,
=======
     "execution_count": 14,
<<<<<<< HEAD
>>>>>>> b5ad61d... adding more algos
=======
>>>>>>> b5ad61d6ff55c2a3b35b774e1995075fed2d0033
>>>>>>> 853080f6e9ed3cf932a112ae42d58c8c2c7c82d7
     "metadata": {},
     "output_type": "execute_result"
    }
   ],
   "source": [
    "BernNB.fit(x_train_tf, y_train)"
   ]
  },
  {
   "cell_type": "code",
<<<<<<< HEAD
   "execution_count": 21,
=======
   "execution_count": 15,
<<<<<<< HEAD
>>>>>>> b5ad61d... adding more algos
=======
>>>>>>> b5ad61d6ff55c2a3b35b774e1995075fed2d0033
>>>>>>> 853080f6e9ed3cf932a112ae42d58c8c2c7c82d7
   "metadata": {},
   "outputs": [],
   "source": [
    "predicted=BernNB.predict(x_test_tf)"
   ]
  },
  {
   "cell_type": "code",
<<<<<<< HEAD
   "execution_count": 22,
=======
   "execution_count": 16,
<<<<<<< HEAD
>>>>>>> b5ad61d... adding more algos
=======
>>>>>>> b5ad61d6ff55c2a3b35b774e1995075fed2d0033
>>>>>>> 853080f6e9ed3cf932a112ae42d58c8c2c7c82d7
   "metadata": {},
   "outputs": [],
   "source": [
    "y_expect= y_test\n",
    "y_pred = BernNB.predict(x_test_tf)"
   ]
  },
  {
   "cell_type": "code",
<<<<<<< HEAD
   "execution_count": 24,
=======
   "execution_count": 17,
<<<<<<< HEAD
>>>>>>> b5ad61d... adding more algos
=======
>>>>>>> b5ad61d6ff55c2a3b35b774e1995075fed2d0033
>>>>>>> 853080f6e9ed3cf932a112ae42d58c8c2c7c82d7
   "metadata": {},
   "outputs": [
    {
     "name": "stdout",
     "output_type": "stream",
     "text": [
<<<<<<< HEAD
      "accuracy score : 38.779019776440244 %\n"
=======
      "accuracy score : 40.04729148753224 %\n"
<<<<<<< HEAD
>>>>>>> b5ad61d... adding more algos
=======
>>>>>>> b5ad61d6ff55c2a3b35b774e1995075fed2d0033
>>>>>>> 853080f6e9ed3cf932a112ae42d58c8c2c7c82d7
     ]
    }
   ],
   "source": [
    "print('accuracy score :', accuracy_score(y_expect, y_pred)*100, '%')"
   ]
<<<<<<< HEAD
  },
  {
   "cell_type": "code",
   "execution_count": null,
   "metadata": {},
   "outputs": [],
   "source": []
=======
<<<<<<< HEAD
>>>>>>> b5ad61d... adding more algos
=======
>>>>>>> b5ad61d6ff55c2a3b35b774e1995075fed2d0033
>>>>>>> 853080f6e9ed3cf932a112ae42d58c8c2c7c82d7
  }
 ],
 "metadata": {
  "kernelspec": {
   "display_name": "Python 3",
   "language": "python",
   "name": "python3"
  },
  "language_info": {
   "codemirror_mode": {
    "name": "ipython",
    "version": 3
   },
   "file_extension": ".py",
   "mimetype": "text/x-python",
   "name": "python",
   "nbconvert_exporter": "python",
   "pygments_lexer": "ipython3",
<<<<<<< HEAD
   "version": "3.7.1"
=======
   "version": "3.7.3"
<<<<<<< HEAD
>>>>>>> b5ad61d... adding more algos
=======
>>>>>>> b5ad61d6ff55c2a3b35b774e1995075fed2d0033
>>>>>>> 853080f6e9ed3cf932a112ae42d58c8c2c7c82d7
  }
 },
 "nbformat": 4,
 "nbformat_minor": 2
}
