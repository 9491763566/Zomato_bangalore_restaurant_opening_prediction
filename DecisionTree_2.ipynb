{
 "cells": [
  {
   "cell_type": "code",
   "execution_count": 1,
   "metadata": {},
   "outputs": [],
   "source": [
    "import sklearn.datasets as skd\n",
    "from sklearn.pipeline import Pipeline\n",
    "from sklearn.feature_extraction.text import TfidfVectorizer\n",
    "from sklearn.naive_bayes import MultinomialNB\n",
    "from sklearn.naive_bayes import BernoulliNB\n",
    "from sklearn.naive_bayes import GaussianNB\n",
    "from sklearn.tree import DecisionTreeClassifier\n",
    "from sklearn.ensemble import RandomForestRegressor\n",
    "from sklearn import metrics\n",
    "from sklearn.metrics import accuracy_score\n",
    "import numpy as np\n",
    "import pandas as pd\n",
    "from sklearn import datasets, linear_model\n",
    "from sklearn.model_selection import train_test_split\n",
    "from matplotlib import pyplot as plt\n",
    "from sklearn.feature_extraction.text import CountVectorizer\n",
    "from sklearn.feature_extraction.text import TfidfTransformer\n",
    "from scipy import sparse\n",
    "from scipy.sparse import hstack\n",
    "from sklearn import tree\n"
   ]
  },
  {
   "cell_type": "code",
   "execution_count": 6,
   "metadata": {},
   "outputs": [
    {
     "name": "stdout",
     "output_type": "stream",
     "text": [
      "(18607,) (18607,)\n",
      "(4652,) (4652,)\n",
      "23176    2.5/5\n",
      "17816    4.7/5\n",
      "10544    4.2/5\n",
      "10863    4.1/5\n",
      "16604    3.8/5\n",
      "21629    4.2/5\n",
      "699      4.3/5\n",
      "13813    4.3/5\n",
      "11527    3.8/5\n",
      "12282    4.0/5\n",
      "3365     4.2/5\n",
      "4132     3.9/5\n",
      "17006    4.0/5\n",
      "7963     4.0/5\n",
      "15648    3.9/5\n",
      "19827    4.2/5\n",
      "18400    3.7/5\n",
      "1949     4.5/5\n",
      "7970     3.1/5\n",
      "9692     4.2/5\n",
      "2215     2.8/5\n",
      "22710    4.3/5\n",
      "2380     4.1/5\n",
      "14284    4.1/5\n",
      "18954    3.6/5\n",
      "22789    3.6/5\n",
      "17276    3.7/5\n",
      "15671    4.0/5\n",
      "12564    4.2/5\n",
      "9771     3.7/5\n",
      "         ...  \n",
      "5610     4.5/5\n",
      "14332    3.8/5\n",
      "23142    3.2/5\n",
      "4327     3.5/5\n",
      "20841    4.3/5\n",
      "15510    4.0/5\n",
      "2498     4.3/5\n",
      "2192     4.3/5\n",
      "15337    3.3/5\n",
      "7747     4.1/5\n",
      "4926     3.0/5\n",
      "7554     4.2/5\n",
      "2306     4.1/5\n",
      "6592     3.7/5\n",
      "8440     3.9/5\n",
      "15309    3.8/5\n",
      "8426     2.9/5\n",
      "21336    3.6/5\n",
      "963      4.1/5\n",
      "4286     3.1/5\n",
      "21899    4.0/5\n",
      "9837     4.2/5\n",
      "2428     4.1/5\n",
      "5874     4.4/5\n",
      "8929     3.8/5\n",
      "16711    4.0/5\n",
      "16524    3.8/5\n",
      "1541     3.9/5\n",
      "19413    4.2/5\n",
      "20899    3.9/5\n",
      "Name: rate, Length: 18607, dtype: object\n"
     ]
    }
   ],
   "source": [
    "zomato=pd.read_csv('zomato_preprocessed.csv')\n",
    "catagories = zomato['rate']\n",
    "catagories = np.unique(catagories)\n",
    "lables = catagories.tolist()\n",
    "lables.pop(0)\n",
    "y= zomato['rate']\n",
    "x= zomato[\"location\"]+ \" \"+ zomato[\"cuisines\"]+ \" \"+ zomato[\"dish_liked\"]+ \" \"+ zomato[\"rest_type\"]\n",
    "X_train, X_test, y_train, y_test = train_test_split(x,y , test_size=0.2)\n",
    "print( X_train.shape, y_train.shape)\n",
    "print (X_test.shape, y_test.shape)\n",
    "v = TfidfVectorizer()\n",
    "x_train_tf= v.fit_transform(X_train)\n",
    "x_test_tf= v.transform(X_test)\n",
    "y_expect= y_test\n",
    "print(y_train)"
   ]
  },
  {
   "cell_type": "code",
   "execution_count": 4,
   "metadata": {},
   "outputs": [
    {
     "name": "stdout",
     "output_type": "stream",
     "text": [
      "accuracy score :  86.99484092863284 %\n"
     ]
    }
   ],
   "source": [
    "clf_entropy= DecisionTreeClassifier(criterion = 'entropy', random_state=100)\n",
    "clf_entropy.fit(x_train_tf, y_train)\n",
    "y_pred_entropy= clf_entropy.predict(x_test_tf)\n",
    "print('accuracy score : ', accuracy_score(y_expect, y_pred_entropy)*100, '%')"
   ]
  }
 ],
 "metadata": {
  "kernelspec": {
   "display_name": "Python 3",
   "language": "python",
   "name": "python3"
  },
  "language_info": {
   "codemirror_mode": {
    "name": "ipython",
    "version": 3
   },
   "file_extension": ".py",
   "mimetype": "text/x-python",
   "name": "python",
   "nbconvert_exporter": "python",
   "pygments_lexer": "ipython3",
   "version": "3.7.3"
  }
 },
 "nbformat": 4,
 "nbformat_minor": 2
}
